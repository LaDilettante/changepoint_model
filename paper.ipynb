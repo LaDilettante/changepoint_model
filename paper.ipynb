{
 "metadata": {
  "name": "",
  "signature": "sha256:d999dc90d028b856538e837dd54f3df237735580cb79f6b3d20d162995450f41"
 },
 "nbformat": 3,
 "nbformat_minor": 0,
 "worksheets": [
  {
   "cells": [
    {
     "cell_type": "markdown",
     "metadata": {},
     "source": [
      "## Description of the algorithm\n",
      "\n",
      "We can sample Sn all at once instead of s_t | S_{allexecptt} which improves the MCMC Chib (1996)\n"
     ]
    },
    {
     "cell_type": "markdown",
     "metadata": {},
     "source": [
      "# Code"
     ]
    },
    {
     "cell_type": "markdown",
     "metadata": {},
     "source": [
      "# Profiling"
     ]
    },
    {
     "cell_type": "code",
     "collapsed": false,
     "input": [
      "import numpy as np"
     ],
     "language": "python",
     "metadata": {},
     "outputs": [],
     "prompt_number": 1
    },
    {
     "cell_type": "code",
     "collapsed": false,
     "input": [
      "a = np.random.rand(2, 5)"
     ],
     "language": "python",
     "metadata": {},
     "outputs": [],
     "prompt_number": 3
    },
    {
     "cell_type": "code",
     "collapsed": false,
     "input": [
      "a"
     ],
     "language": "python",
     "metadata": {},
     "outputs": [
      {
       "metadata": {},
       "output_type": "pyout",
       "prompt_number": 4,
       "text": [
        "array([[ 0.4783961 ,  0.06604018,  0.41520001,  0.78839716,  0.68630156],\n",
        "       [ 0.8081972 ,  0.32238898,  0.30352426,  0.93793085,  0.61827655]])"
       ]
      }
     ],
     "prompt_number": 4
    }
   ],
   "metadata": {}
  }
 ]
}
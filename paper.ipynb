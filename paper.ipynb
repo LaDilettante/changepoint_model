{
 "metadata": {
  "name": "",
  "signature": "sha256:f48fa1a10cbdf8d068f912619248c013155e2e0a3c5c1598ef286270fe8e7561"
 },
 "nbformat": 3,
 "nbformat_minor": 0,
 "worksheets": [
  {
   "cells": [
    {
     "cell_type": "markdown",
     "metadata": {},
     "source": [
      "# This is my paper\n",
      "\n",
      "## Description of the algorithm\n",
      "\n",
      "## Naive version\n",
      "\n",
      "## Profiling"
     ]
    },
    {
     "cell_type": "code",
     "collapsed": false,
     "input": [
      "import numpy as np"
     ],
     "language": "python",
     "metadata": {},
     "outputs": [],
     "prompt_number": 1
    },
    {
     "cell_type": "code",
     "collapsed": false,
     "input": [
      "a = np.random.rand(2, 5)"
     ],
     "language": "python",
     "metadata": {},
     "outputs": [],
     "prompt_number": 3
    },
    {
     "cell_type": "code",
     "collapsed": false,
     "input": [
      "a"
     ],
     "language": "python",
     "metadata": {},
     "outputs": [
      {
       "metadata": {},
       "output_type": "pyout",
       "prompt_number": 4,
       "text": [
        "array([[ 0.4783961 ,  0.06604018,  0.41520001,  0.78839716,  0.68630156],\n",
        "       [ 0.8081972 ,  0.32238898,  0.30352426,  0.93793085,  0.61827655]])"
       ]
      }
     ],
     "prompt_number": 4
    }
   ],
   "metadata": {}
  }
 ]
}
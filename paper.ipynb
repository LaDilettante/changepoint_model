{
 "metadata": {
  "name": "",
  "signature": "sha256:dc78bcecb190abf7952b2a12322226366a32d52e6bc9f64144a130f629f811de"
 },
 "nbformat": 3,
 "nbformat_minor": 0,
 "worksheets": [
  {
   "cells": [
    {
     "cell_type": "markdown",
     "metadata": {},
     "source": [
      "# This is my paper\n",
      "\n",
      "## Description of the algorithm\n",
      "\n",
      "## Naive version\n",
      "\n",
      "## Profiling"
     ]
    },
    {
     "cell_type": "code",
     "collapsed": false,
     "input": [],
     "language": "python",
     "metadata": {},
     "outputs": []
    }
   ],
   "metadata": {}
  }
 ]
}
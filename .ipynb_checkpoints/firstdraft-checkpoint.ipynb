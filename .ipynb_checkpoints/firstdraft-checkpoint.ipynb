{
 "metadata": {
  "name": "",
  "signature": "sha256:a5df03883578f0c9094cbf2f98fb41a0f024b9f3ecc832c90d8a10b21b23e4d5"
 },
 "nbformat": 3,
 "nbformat_minor": 0,
 "worksheets": [
  {
   "cells": [
    {
     "cell_type": "code",
     "collapsed": false,
     "input": [
      "import numpy as np\n",
      "import scipy as sp\n",
      "import scipy.stats as st\n",
      "import matplotlib.pyplot as plt\n",
      "from changepoint import init_functions as init\n",
      "from changepoint import full_conditionals as cond\n",
      "%matplotlib inline\n",
      "%load_ext autoreload\n",
      "%autoreload 2"
     ],
     "language": "python",
     "metadata": {},
     "outputs": [
      {
       "output_type": "stream",
       "stream": "stdout",
       "text": [
        "The autoreload extension is already loaded. To reload it, use:\n",
        "  %reload_ext autoreload\n"
       ]
      }
     ],
     "prompt_number": 227
    },
    {
     "cell_type": "code",
     "collapsed": false,
     "input": [
      "thetas = np.array([0.5, 0.75, 0.25])\n",
      "ns = np.array([50, 50, 50])\n",
      "\n",
      "np.random.seed(2103)\n",
      "Yn = np.array([st.bernoulli.rvs(theta_, size=n_) for theta_, n_ in zip(thetas, ns)]) \\\n",
      "    .ravel()"
     ],
     "language": "python",
     "metadata": {},
     "outputs": [],
     "prompt_number": 228
    },
    {
     "cell_type": "code",
     "collapsed": false,
     "input": [
      "plt.plot(np.cumsum(Yn))"
     ],
     "language": "python",
     "metadata": {},
     "outputs": [
      {
       "metadata": {},
       "output_type": "pyout",
       "prompt_number": 229,
       "text": [
        "[<matplotlib.lines.Line2D at 0x7fcf7dfb7b10>]"
       ]
      },
      {
       "metadata": {},
       "output_type": "display_data",
       "png": "[encoded data removed]",
       "text": [
        "<matplotlib.figure.Figure at 0x7fcf7e08ce90>"
       ]
      }
     ],
     "prompt_number": 229
    },
    {
     "cell_type": "code",
     "collapsed": false,
     "input": [
      "Sn = init.S(150, 2)\n",
      "P = init.P(3)"
     ],
     "language": "python",
     "metadata": {},
     "outputs": [],
     "prompt_number": 230
    },
    {
     "cell_type": "code",
     "collapsed": false,
     "input": [
      "Theta = cond.Theta_sampling(Yn, Sn)"
     ],
     "language": "python",
     "metadata": {},
     "outputs": [],
     "prompt_number": 250
    },
    {
     "cell_type": "code",
     "collapsed": false,
     "input": [
      "cond.S_conditional(Yn, Theta, P)"
     ],
     "language": "python",
     "metadata": {},
     "outputs": [
      {
       "metadata": {},
       "output_type": "pyout",
       "prompt_number": 258,
       "text": [
        "array([[  1.00000000e+000,   6.94310417e-310,   2.93066144e-316],\n",
        "       [  1.19453578e-001,   1.33021580e-310,   1.96240844e-316],\n",
        "       [  1.42691572e-002,   2.54853720e-311,   1.31405380e-316],\n",
        "       [  5.43007673e-003,   7.86003584e-312,   4.34146550e-317],\n",
        "       [  2.06639627e-003,   2.42414300e-312,   1.43436447e-317],\n",
        "       [  2.46838428e-004,   4.64439384e-313,   9.60469050e-318],\n",
        "       [  9.39334805e-005,   1.43241655e-313,   3.17326507e-318],\n",
        "       [  1.12206903e-005,   2.74439860e-314,   2.12485777e-318],\n",
        "       [  4.26999355e-006,   8.46471075e-315,   7.02027757e-319],\n",
        "       [  1.62493077e-006,   2.61083514e-315,   2.31939117e-319],\n",
        "       [  6.18361591e-007,   8.05284498e-316,   7.66295817e-320],\n",
        "       [  7.38655043e-008,   1.54297502e-316,   5.13136580e-320],\n",
        "       [  2.81092534e-008,   4.76030323e-317,   1.69513923e-320],\n",
        "       [  1.06968758e-008,   1.46865756e-317,   5.60270442e-321],\n",
        "       [  4.07065782e-009,   4.53124402e-318,   1.85274617e-321],\n",
        "       [  1.54907427e-009,   1.39806250e-318,   6.12641401e-322],\n",
        "       [  1.85042464e-010,   2.67971325e-319,   4.10074486e-322],\n",
        "       [  2.21039843e-011,   5.14174118e-320,   2.76676762e-322],\n",
        "       [  2.64040001e-012,   9.90601620e-321,   1.82804289e-322],\n",
        "       [  1.00479478e-012,   3.10767291e-321,   5.92878775e-323],\n",
        "       [  3.82371057e-013,   9.73309322e-322,   1.97626258e-323],\n",
        "       [  1.45509938e-013,   3.06320700e-322,   4.94065646e-324],\n",
        "       [  1.73816827e-014,   5.92878775e-323,   4.94065646e-324],\n",
        "       [  6.61453715e-015,   1.97626258e-323,   0.00000000e+000],\n",
        "       [  7.90130127e-016,   4.94065646e-324,   0.00000000e+000],\n",
        "       [  3.00681193e-016,   0.00000000e+000,   0.00000000e+000],\n",
        "       [  3.59174443e-017,   0.00000000e+000,   0.00000000e+000],\n",
        "       [  1.36682549e-017,   0.00000000e+000,   0.00000000e+000],\n",
        "       [  5.20140551e-018,   0.00000000e+000,   0.00000000e+000],\n",
        "       [  6.21326497e-019,   0.00000000e+000,   0.00000000e+000],\n",
        "       [  7.42196729e-020,   0.00000000e+000,   0.00000000e+000],\n",
        "       [  2.82440310e-020,   0.00000000e+000,   0.00000000e+000],\n",
        "       [  1.07481649e-020,   0.00000000e+000,   0.00000000e+000],\n",
        "       [  1.28390676e-021,   0.00000000e+000,   0.00000000e+000],\n",
        "       [  1.53367255e-022,   0.00000000e+000,   0.00000000e+000],\n",
        "       [  5.83633603e-023,   0.00000000e+000,   0.00000000e+000],\n",
        "       [  2.22099680e-023,   0.00000000e+000,   0.00000000e+000],\n",
        "       [  8.45192385e-024,   0.00000000e+000,   0.00000000e+000],\n",
        "       [  1.00961254e-024,   0.00000000e+000,   0.00000000e+000],\n",
        "       [  3.84204441e-025,   0.00000000e+000,   0.00000000e+000],\n",
        "       [  1.46207625e-025,   0.00000000e+000,   0.00000000e+000],\n",
        "       [  1.74650239e-026,   0.00000000e+000,   0.00000000e+000],\n",
        "       [  2.08625959e-027,   0.00000000e+000,   0.00000000e+000],\n",
        "       [  7.93918625e-028,   0.00000000e+000,   0.00000000e+000],\n",
        "       [  9.48364201e-029,   0.00000000e+000,   0.00000000e+000],\n",
        "       [  1.13285497e-029,   0.00000000e+000,   0.00000000e+000],\n",
        "       [  4.31103905e-030,   0.00000000e+000,   0.00000000e+000],\n",
        "       [  5.14969038e-031,   0.00000000e+000,   0.00000000e+000],\n",
        "       [  1.95969625e-031,   0.00000000e+000,   0.00000000e+000],\n",
        "       [  2.34092728e-032,   0.00000000e+000,   0.00000000e+000],\n",
        "       [  2.79632139e-033,   0.00000000e+000,   0.00000000e+000],\n",
        "       [  1.06413010e-033,   0.00000000e+000,   0.00000000e+000],\n",
        "       [  4.04950902e-034,   0.00000000e+000,   0.00000000e+000],\n",
        "       [  1.54102617e-034,   0.00000000e+000,   0.00000000e+000],\n",
        "       [  5.86431996e-035,   0.00000000e+000,   0.00000000e+000],\n",
        "       [  2.23164598e-035,   0.00000000e+000,   0.00000000e+000],\n",
        "       [  2.66578096e-036,   0.00000000e+000,   0.00000000e+000],\n",
        "       [  3.18437073e-037,   0.00000000e+000,   0.00000000e+000],\n",
        "       [  1.21180089e-037,   0.00000000e+000,   0.00000000e+000],\n",
        "       [  1.44753952e-038,   0.00000000e+000,   0.00000000e+000],\n",
        "       [  5.50855985e-039,   0.00000000e+000,   0.00000000e+000],\n",
        "       [  6.58017181e-040,   0.00000000e+000,   0.00000000e+000],\n",
        "       [  2.50406084e-040,   0.00000000e+000,   0.00000000e+000],\n",
        "       [  9.52911395e-041,   0.00000000e+000,   0.00000000e+000],\n",
        "       [  3.62627022e-041,   0.00000000e+000,   0.00000000e+000],\n",
        "       [  1.37996416e-041,   0.00000000e+000,   0.00000000e+000],\n",
        "       [  5.25140424e-042,   0.00000000e+000,   0.00000000e+000],\n",
        "       [  1.99840309e-042,   0.00000000e+000,   0.00000000e+000],\n",
        "       [  7.60485148e-043,   0.00000000e+000,   0.00000000e+000],\n",
        "       [  2.89399902e-043,   0.00000000e+000,   0.00000000e+000],\n",
        "       [  1.10130097e-043,   0.00000000e+000,   0.00000000e+000],\n",
        "       [  4.19096146e-044,   0.00000000e+000,   0.00000000e+000],\n",
        "       [  5.00625340e-045,   0.00000000e+000,   0.00000000e+000],\n",
        "       [  1.90511182e-045,   0.00000000e+000,   0.00000000e+000],\n",
        "       [  7.24983488e-046,   0.00000000e+000,   0.00000000e+000],\n",
        "       [  2.75889872e-046,   0.00000000e+000,   0.00000000e+000],\n",
        "       [  1.04988904e-046,   0.00000000e+000,   0.00000000e+000],\n",
        "       [  3.99531518e-047,   0.00000000e+000,   0.00000000e+000],\n",
        "       [  1.52040290e-047,   0.00000000e+000,   0.00000000e+000],\n",
        "       [  5.78583883e-048,   0.00000000e+000,   0.00000000e+000],\n",
        "       [  2.20178027e-048,   0.00000000e+000,   0.00000000e+000],\n",
        "       [  8.37879603e-049,   0.00000000e+000,   0.00000000e+000],\n",
        "       [  3.18852085e-049,   0.00000000e+000,   0.00000000e+000],\n",
        "       [  1.21338020e-049,   0.00000000e+000,   0.00000000e+000],\n",
        "       [  1.44942606e-050,   0.00000000e+000,   0.00000000e+000],\n",
        "       [  1.73139129e-051,   0.00000000e+000,   0.00000000e+000],\n",
        "       [  6.58874760e-052,   0.00000000e+000,   0.00000000e+000],\n",
        "       [  2.50732433e-052,   0.00000000e+000,   0.00000000e+000],\n",
        "       [  2.99508861e-053,   0.00000000e+000,   0.00000000e+000],\n",
        "       [  3.57774050e-054,   0.00000000e+000,   0.00000000e+000],\n",
        "       [  1.36149635e-054,   0.00000000e+000,   0.00000000e+000],\n",
        "       [  1.62635610e-055,   0.00000000e+000,   0.00000000e+000],\n",
        "       [  6.18903995e-056,   0.00000000e+000,   0.00000000e+000],\n",
        "       [  2.35521701e-056,   0.00000000e+000,   0.00000000e+000],\n",
        "       [  8.96269407e-057,   0.00000000e+000,   0.00000000e+000],\n",
        "       [  3.41072116e-057,   0.00000000e+000,   0.00000000e+000],\n",
        "       [  1.29793774e-057,   0.00000000e+000,   0.00000000e+000],\n",
        "       [  4.93925562e-058,   0.00000000e+000,   0.00000000e+000],\n",
        "       [  1.87961605e-058,   0.00000000e+000,   0.00000000e+000],\n",
        "       [  7.15281165e-059,   0.00000000e+000,   0.00000000e+000],\n",
        "       [  8.54428942e-060,   0.00000000e+000,   0.00000000e+000],\n",
        "       [  1.02064594e-060,   0.00000000e+000,   0.00000000e+000],\n",
        "       [  1.21919809e-061,   0.00000000e+000,   0.00000000e+000],\n",
        "       [  1.45637574e-062,   0.00000000e+000,   0.00000000e+000],\n",
        "       [  1.73969292e-063,   0.00000000e+000,   0.00000000e+000],\n",
        "       [  2.07812544e-064,   0.00000000e+000,   0.00000000e+000],\n",
        "       [  2.48239518e-065,   0.00000000e+000,   0.00000000e+000],\n",
        "       [  2.96530986e-066,   0.00000000e+000,   0.00000000e+000],\n",
        "       [  3.54216871e-067,   0.00000000e+000,   0.00000000e+000],\n",
        "       [  4.23124725e-068,   0.00000000e+000,   0.00000000e+000],\n",
        "       [  5.05437622e-069,   0.00000000e+000,   0.00000000e+000],\n",
        "       [  1.92342479e-069,   0.00000000e+000,   0.00000000e+000],\n",
        "       [  2.29759972e-070,   0.00000000e+000,   0.00000000e+000],\n",
        "       [  2.74456507e-071,   0.00000000e+000,   0.00000000e+000],\n",
        "       [  3.27848117e-072,   0.00000000e+000,   0.00000000e+000],\n",
        "       [  1.24761428e-072,   0.00000000e+000,   0.00000000e+000],\n",
        "       [  1.49031989e-073,   0.00000000e+000,   0.00000000e+000],\n",
        "       [  1.78024043e-074,   0.00000000e+000,   0.00000000e+000],\n",
        "       [  2.12656088e-075,   0.00000000e+000,   0.00000000e+000],\n",
        "       [  2.54025306e-076,   0.00000000e+000,   0.00000000e+000],\n",
        "       [  9.66684213e-077,   0.00000000e+000,   0.00000000e+000],\n",
        "       [  1.15473888e-077,   0.00000000e+000,   0.00000000e+000],\n",
        "       [  1.37937690e-078,   0.00000000e+000,   0.00000000e+000],\n",
        "       [  5.24916945e-079,   0.00000000e+000,   0.00000000e+000],\n",
        "       [  1.99755265e-079,   0.00000000e+000,   0.00000000e+000],\n",
        "       [  2.38614811e-080,   0.00000000e+000,   0.00000000e+000],\n",
        "       [  9.08040127e-081,   0.00000000e+000,   0.00000000e+000],\n",
        "       [  1.08468642e-081,   0.00000000e+000,   0.00000000e+000],\n",
        "       [  1.29569673e-082,   0.00000000e+000,   0.00000000e+000],\n",
        "       [  1.54775610e-083,   0.00000000e+000,   0.00000000e+000],\n",
        "       [  1.84885004e-084,   0.00000000e+000,   0.00000000e+000],\n",
        "       [  2.20851752e-085,   0.00000000e+000,   0.00000000e+000],\n",
        "       [  2.63815319e-086,   0.00000000e+000,   0.00000000e+000],\n",
        "       [  3.15136836e-087,   0.00000000e+000,   0.00000000e+000],\n",
        "       [  3.76442226e-088,   0.00000000e+000,   0.00000000e+000],\n",
        "       [  4.49673706e-089,   0.00000000e+000,   0.00000000e+000],\n",
        "       [  1.71121720e-089,   0.00000000e+000,   0.00000000e+000],\n",
        "       [  2.04411017e-090,   0.00000000e+000,   0.00000000e+000],\n",
        "       [  2.44176273e-091,   0.00000000e+000,   0.00000000e+000],\n",
        "       [  2.91677294e-092,   0.00000000e+000,   0.00000000e+000],\n",
        "       [  3.48418963e-093,   0.00000000e+000,   0.00000000e+000],\n",
        "       [  1.32589590e-093,   0.00000000e+000,   0.00000000e+000],\n",
        "       [  5.04564940e-094,   0.00000000e+000,   0.00000000e+000],\n",
        "       [  6.02720872e-095,   0.00000000e+000,   0.00000000e+000],\n",
        "       [  7.19971645e-096,   0.00000000e+000,   0.00000000e+000],\n",
        "       [  8.60031889e-097,   0.00000000e+000,   0.00000000e+000],\n",
        "       [  1.02733886e-097,   0.00000000e+000,   0.00000000e+000],\n",
        "       [  1.22719302e-098,   0.00000000e+000,   0.00000000e+000],\n",
        "       [  1.46592597e-099,   0.00000000e+000,   0.00000000e+000],\n",
        "       [  5.57852884e-100,   0.00000000e+000,   0.00000000e+000]])"
       ]
      }
     ],
     "prompt_number": 258
    },
    {
     "cell_type": "code",
     "collapsed": false,
     "input": [],
     "language": "python",
     "metadata": {},
     "outputs": []
    }
   ],
   "metadata": {}
  }
 ]
}
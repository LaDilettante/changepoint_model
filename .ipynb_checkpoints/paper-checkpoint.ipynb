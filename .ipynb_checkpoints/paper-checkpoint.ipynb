{
 "metadata": {
  "name": "",
  "signature": "sha256:614fc5b9f0ef836ec515f4322a53172549fbe80cceb380a7bdfbefd4512293f6"
 },
 "nbformat": 3,
 "nbformat_minor": 0,
 "worksheets": [
  {
   "cells": [
    {
     "cell_type": "code",
     "collapsed": false,
     "input": [
      "import changepoint.mcmc_sampler as mcmc_samp\n",
      "import changepoint.mcem_sampler as mcem_samp\n",
      "import changepoint.full_conditionals as cond\n",
      "import changepoint.full_conditionals_opt as cond_opt\n",
      "import changepoint.mcem as mcem\n",
      "import changepoint.mcem_opt as mcem_opt\n",
      "import changepoint.ordinate as ordinate\n",
      "from scipy.stats import gaussian_kde\n",
      "import numpy as np\n",
      "import matplotlib.pyplot as plt\n",
      "import matplotlib.pylab as pylab\n",
      "from __future__ import print_function\n",
      "from IPython.core import page\n",
      "page.page = print # print instead of opening pager\n",
      "%matplotlib inline\n",
      "%load_ext rmagic\n",
      "%load_ext line_profiler\n",
      "%load_ext autoreload\n",
      "%autoreload 2"
     ],
     "language": "python",
     "metadata": {},
     "outputs": [
      {
       "output_type": "stream",
       "stream": "stdout",
       "text": [
        "The line_profiler extension is already loaded. To reload it, use:\n",
        "  %reload_ext line_profiler\n",
        "The autoreload extension is already loaded. To reload it, use:\n",
        "  %reload_ext autoreload\n"
       ]
      }
     ],
     "prompt_number": 130
    },
    {
     "cell_type": "markdown",
     "metadata": {},
     "source": [
      "Github repo: https://github.com/LaDilettante/changepoint_model"
     ]
    },
    {
     "cell_type": "markdown",
     "metadata": {},
     "source": [
      "# Introduction\n",
      "\n",
      "This project implements Chib (1998) multiple change-point model. This algorithm comprises of two parts:\n",
      "\n",
      "Given a number of change-points\n",
      "1. Detect the location of change-points and the parameters of the DGP in the different regimes\n",
      "2. Calculate the marginal likelihood of the model, which can be used to compare models with different change-points\n",
      "\n",
      "The innovation of the model is \"a formulation of the change-point modle in terms of a latent discrete statement variable that indicates the regime from which a particular observation has been drawn.\" Formulating the model in this way, we can then use the forward-backward algorithm to sample the latent state vector (and Gibbs sampler to sample the other parameters). \n",
      "\n",
      "This method requires only $2n$ passes through the data, *regardless of the number of change-points*. This is a big improvement over previous change-point models, in which we have to sample the change-point one at a time."
     ]
    },
    {
     "cell_type": "markdown",
     "metadata": {},
     "source": [
      "# Model Parameterization\n",
      "\n",
      "Consider a time series $Y_n$ with an unknown $m$ change-points.\n",
      "\n",
      "Introduce the latent state vector $s_t = \\{1, 2, \\dots, m + 1\\}$, indicating which regime the observation $y_t$ is drawn from. In other words, if $s_t = k$, then $y_t \\sim f(y_t | Y_{t-1}, \\theta_k)$\n",
      "\n",
      "The variable $s_t$ is modeled as a discrete Markov process with the transition probability matrix designed to fit the change-point model. Specifically,\n",
      "\n",
      "$$\n",
      "P = \\left(\\begin{matrix}\n",
      "p_{11} & p_{22} & 0 & \\dots & 0 \\\\\n",
      "0 & p_{22} & p_{23} & \\dots & 0 \\\\\n",
      "\\vdots & \\vdots & \\vdots & \\vdots & \\vdots \\\\\n",
      "\\dots & \\vdots & 0 & p_{mm} & p_{m,m+1} \\\\\n",
      "0 & 0 & 0 & \\dots & 1\n",
      "\\end{matrix}\\right)\n",
      "$$\n",
      "\n",
      "Given this transition matrix, the latent state variable $s_t$ can only jump forward, conforming to the change-point model.\n",
      "\n",
      "**In sum**, we have 3 following parameters $S_n$, $\\Theta$, $P$. The next section describe the MCMC scheme to sample each parameter."
     ]
    },
    {
     "cell_type": "markdown",
     "metadata": {},
     "source": [
      "# MCMC scheme\n",
      "\n",
      "With a prior density $\\pi(\\Theta, P)$ and data $Y_n$, we want to estimate the posterior $\\pi(\\Theta, P | Y_n)$. With the data augmentation using the latent variable $s_t$, we can use the following full conditionals:\n",
      "\n",
      "- $S_n | Y_n, \\Theta, P$\n",
      "- $P | S_n$\n",
      "- $\\Theta | Y_n, S_n$\n",
      "\n",
      "Note how the introduction of $S_n$ simplifies the full conditional of $P$ and $\\Theta$"
     ]
    },
    {
     "cell_type": "markdown",
     "metadata": {},
     "source": [
      "## Simulation of ${s_t}$ (forward-backward)\n",
      "\n",
      "Denote $S_t$ the state history up to time $t$, and $S^{t+1}$ the future from $t+1$ to $n$. We now sample $p(S_n | Y_n, \\Theta, P)$\n",
      "\n",
      "\\begin{align}\n",
      "p(S_n | Y_n, \\Theta, P) =\n",
      "& p(s_{n-1} | Y_n, s_n, \\Theta, P) \\times \\\\\n",
      "& p(s_{n-2} | Y_n, S^{n-1}, \\Theta, P) \\times  \\\\\n",
      "& \\dots \\\\\n",
      "& p(s_1 | Y_n, S^2, \\Theta, P)\n",
      "\\end{align}\n",
      "\n",
      "A typical term from above is in the form $p(s_t | Y_n, S^{t+1}, \\Theta, P)$, and can be calculated as following:\n",
      "\\begin{equation}\n",
      "p(s_t | Y_n, S^{t+1}, \\Theta, P) \\propto p(s_t | Y_t, \\Theta, P) p(s_{t+1}|s_t, P)\n",
      "\\end{equation}\n",
      "\n",
      "**_Key idea_**\n",
      "- Notice how given $s_{t+1}$ and $p(s_t | Y_t, \\Theta, P)$, we can calculate $p(s_t | Y_n, S^{t+1}, \\Theta, P)$. This is how we go **backward** after initializing $s_n = m + 1$\n",
      "\n",
      "We still need $p(s_t | Y_t, \\Theta, P)$, which is calculated as:\n",
      "\n",
      "$$\n",
      "p(s_t = k | Y_t, \\Theta, P) = \\frac{p(s_t = k | Y_{t-1}, \\Theta, P) \\times f(y_t | Y_{t-1}, \\theta_k)}{\\sum_{l = \\text{all k's}} p(s_t = l | Y_{t-1}, \\Theta, P) \\times f(y_t | Y_{t-1}, \\theta_l)}\n",
      "$$ and\n",
      "\n",
      "$$\n",
      "p(s_t = k | Y_{t-1}, \\Theta, P) = \\sum_{l=k-1}^{k} p_{lk} \\times p(s_{t-1} = l |Y_{t-1}, \\Theta, P)\n",
      "$$\n",
      "\n",
      "**_Key idea_**:\n",
      "- Notice how given $p(s_{t-1} = l |Y_{t-1}, \\Theta, P)$, we can calculate $p(s_t = k | Y_t, \\Theta, P)$. This is how we go **forward**, starting by setting $p(s_1 | Y_0, \\theta)=1$."
     ]
    },
    {
     "cell_type": "markdown",
     "metadata": {},
     "source": [
      "## Simulation of P\n",
      "\n",
      "Since $P | Y_n, S_n, \\Theta$ is independent of $Y_n, \\Theta$ given $S_n$, sampling from the full conditional is easy.\n",
      "\n",
      "Given the prior $p_{ii} \\sim Beta(a, b)$, we have the posterior $p_ii | S_n \\sim Beta(a + n_{ii}, b + 1)$, with $n_{ii}$ denote the number of one-step transitions from state $i$ to state $i$ in the sequence $S_n$"
     ]
    },
    {
     "cell_type": "markdown",
     "metadata": {},
     "source": [
      "## Simulation of $\\Theta$\n",
      "\n",
      "The full conditional $\\Theta | Y_n, S_n$ depends on each data model. Given the latent state vector $S_n$, we have a complete data likelihood, and the posterior update is routine."
     ]
    },
    {
     "cell_type": "markdown",
     "metadata": {},
     "source": [
      "# MCEM and calculating marginal likelihood\n",
      "\n",
      "To decide how many change points there are in the data, we can fit models with different change points the compare the marginal likelihood of each model.\n",
      "\n",
      "The marginal likelihood of model $M_r$ is:\n",
      "$$\n",
      "m(Y_n | M_r) = \\frac{f(Y_n | M_r, \\Theta^*, P^*) \\pi(\\Theta^*, P^* | M_r)}{\\pi(\\Theta^*, P^* | Y_n, M_r)}\n",
      "$$\n",
      "where $\\Theta^*, P^*$ could be any point in the parameter space. However, for numerical stability, we choose a high posterior density point, which is the MLE, estimated via Monte Carlo EM. \n",
      "\n",
      "The posterior ordinate $\\pi(\\Theta^*, P^* | M_r)$ is separated into two terms:\n",
      "$$\n",
      "\\pi(\\Theta^*, P^* | M_r) = \\pi(\\Theta* | Y_n) \\pi(P^* | Y_n, \\Theta^*)\n",
      "$$\n",
      "both of which are estimated from MCMC samples."
     ]
    },
    {
     "cell_type": "markdown",
     "metadata": {},
     "source": [
      "# Implementation\n",
      "\n",
      "- Each full conditional in a MCMC iteration is a function, grouped into a module (\"full_conditionals.py\"). This makes it easy to re-use the sampling step for the MCMC and MCEM\n",
      "- The update for each parameter in the MCEM iteration is a function, grouped into a module (\"mcem.py\")\n",
      "- The calculation of each term in the marginal likelihood is a function (in file \"ordinate.py\")\n",
      "\n",
      "The MCMC and MCEM samplers then call these modules. To facilitate speed comparison, the sampler can choose to call the regular module or the optimized version (suffixed with \"_opt.py\"). The sampler function can also specify the DGP (binary or poisson) and the number of change points."
     ]
    },
    {
     "cell_type": "markdown",
     "metadata": {},
     "source": [
      "# Result\n",
      "\n",
      "We use the algorithm on binary data (simulated) and poisson data (British coal-mining disasters)"
     ]
    },
    {
     "cell_type": "markdown",
     "metadata": {},
     "source": [
      "## Binary data\n",
      "\n",
      "We simulate binary data $y_t \\sim Bernoulli(\\xi_t)$, where\n",
      "$$\n",
      "f(n) = \\begin{cases} \n",
      "\\theta_1 = 0.5 &\\mbox{if } t \\leq 50 \\\\\n",
      "\\theta_2 = 0.75 & \\mbox{if } 50 < t \\leq 100 \\\\\n",
      "\\theta_3 = 0.25 & \\mbox{if } 100 < t \\leq 150\\end{cases}\n",
      "$$"
     ]
    },
    {
     "cell_type": "code",
     "collapsed": false,
     "input": [
      "Yn_binary = mcmc_samp.init.binary_data()\n",
      "Sn, F1_mcmc, F_mcmc, Theta_mcmc, P = mcmc_samp.sampler(Yn_binary, model=\"binary\", m=2, cond_module=cond_opt)"
     ],
     "language": "python",
     "metadata": {},
     "outputs": [],
     "prompt_number": 23
    },
    {
     "cell_type": "code",
     "collapsed": false,
     "input": [
      "pylab.rcParams['figure.figsize'] = 12, 5\n",
      "plt.subplot(1, 2, 1)\n",
      "plt.plot(np.cumsum(Yn_binary)) ; plt.xlabel(\"Time\") ; plt.ylabel(\"cumulative sum yt\")\n",
      "plt.subplot(1, 2, 2)\n",
      "plt.plot(F_mcmc[:,:,1000:6000].mean(axis=-1)); plt.xlabel(\"Time\") ; plt.ylabel(\"Pr(st|Yn)\")\n",
      "plt.legend(['st=1','st=2','st=3'])"
     ],
     "language": "python",
     "metadata": {},
     "outputs": [
      {
       "metadata": {},
       "output_type": "display_data",
       "png": "[encoded data removed]",
       "text": [
        "<matplotlib.figure.Figure at 0x7f52fddad810>"
       ]
      }
     ],
     "prompt_number": 22
    },
    {
     "cell_type": "markdown",
     "metadata": {},
     "source": [
      "## Poisson data\n",
      "\n",
      "We use the method on the British coal mining disasters by year. Model the count $y_t$ from a hierarchical Poisson model\n",
      "\n",
      "$$f(y_t | \\xi_t) = \\frac{\\xi_t^{y_t} \\text{e}^{-\\xi_t}}{y_t!}$$\n",
      "\n",
      "Our implementation successfully replicates the author's result (Figure 3 and Figure 4) for the model with one break."
     ]
    },
    {
     "cell_type": "code",
     "collapsed": false,
     "input": [
      "Yn_poisson = mcmc_samp.init.poisson_data()\n",
      "Sn_mcmc, F1_mcmc, F_mcmc, Theta_mcmc, P_mcmc = mcmc_samp.sampler(Yn_poisson, model=\"poisson\", m=1, cond_module=cond_opt)"
     ],
     "language": "python",
     "metadata": {},
     "outputs": [],
     "prompt_number": 27
    },
    {
     "cell_type": "code",
     "collapsed": false,
     "input": [
      "plt.subplot(2, 2, 1)\n",
      "plt.bar(np.arange(len(Yn_poisson)), Yn_poisson)\n",
      "plt.xlabel(\"Time\")\n",
      "plt.ylabel(\"yt\")\n",
      "\n",
      "plt.subplot(2, 2, 2)\n",
      "density = gaussian_kde(Theta_mcmc[0, 1000:6000])\n",
      "xs = np.linspace(2,5,200)\n",
      "plt.plot(xs, density(xs))\n",
      "plt.xlabel(\"lambda1\")\n",
      "plt.ylabel(\"pdf\")\n",
      "\n",
      "plt.subplot(2, 2, 3)\n",
      "density = gaussian_kde(Theta_mcmc[1, 1000:6000])\n",
      "xs = np.linspace(0.5,2,200)\n",
      "plt.plot(xs, density(xs))\n",
      "plt.xlabel(\"lambda2\")\n",
      "plt.ylabel(\"pdf\")\n",
      "\n",
      "plt.subplot(2, 2, 4)\n",
      "plt.plot(F1_mcmc[:,:,1000:6000].mean(axis=-1));\n",
      "plt.legend(['st=1', 'st=2'])\n",
      "plt.xlabel(\"Time\")\n",
      "plt.ylabel(\"Pr(st|Yn)\")\n",
      "\n",
      "plt.tight_layout()\n",
      "plt.title(\"Replicate Fig 3\")"
     ],
     "language": "python",
     "metadata": {},
     "outputs": [
      {
       "metadata": {},
       "output_type": "display_data",
       "png": "[encoded data removed]",
       "text": [
        "<matplotlib.figure.Figure at 0x7f52fdd31650>"
       ]
      }
     ],
     "prompt_number": 29
    },
    {
     "cell_type": "code",
     "collapsed": false,
     "input": [
      "plt.hist(np.where(Sn_mcmc[:-1] != Sn_mcmc[1:])[0], bins=50);\n",
      "plt.xlabel(\"Time\") ; plt.ylabel(\"Probability\") ; plt.title(\"Replicate Fig 4: Posterior probability mass function of first change point\") ;"
     ],
     "language": "python",
     "metadata": {},
     "outputs": [
      {
       "metadata": {},
       "output_type": "display_data",
       "png": "[encoded data removed]",
       "text": [
        "<matplotlib.figure.Figure at 0x7f52fdca6a90>"
       ]
      }
     ],
     "prompt_number": 38
    },
    {
     "cell_type": "markdown",
     "metadata": {},
     "source": [
      "## Marginal likelihood calculation"
     ]
    },
    {
     "cell_type": "markdown",
     "metadata": {},
     "source": [
      "The result of our Monte Carlo EM and the marginal likelihood function for Poisson data also matches the author's result exactly. Comparing the marginal likelihood of the one break (-178.37) vs two breaks (-179.59), we reach the same conclusion that one break model is a better fit (See Table 2 in the paper for the same conclusion). The location of change-points in the two-break models also matches the author's exactly."
     ]
    },
    {
     "cell_type": "code",
     "collapsed": false,
     "input": [
      "Sn_mcmc, F1_mcmc, F_mcmc, Theta_mcmc, Theta_mle, P_mle, log_likelihood, marg_lik = mcmc_samp.sampler_with_mcem(Yn_poisson, \\\n",
      "    model=\"poisson\", m=1, cond_module=cond_opt, mcem_module=mcem_opt, ordinate_module=ordinate)"
     ],
     "language": "python",
     "metadata": {},
     "outputs": [],
     "prompt_number": 77
    },
    {
     "cell_type": "code",
     "collapsed": false,
     "input": [
      "print (\"Theta_MLE =\", Theta_mle)\n",
      "print (\"log-likelihood =\", log_likelihood)\n",
      "print (\"marginal-likelihood =\", marg_lik)"
     ],
     "language": "python",
     "metadata": {},
     "outputs": [
      {
       "output_type": "stream",
       "stream": "stdout",
       "text": [
        "Theta_MLE = [ 3.12513647  0.9260591 ]\n",
        "log-likelihood = -172.181385853\n",
        "marginal-likelihood = -178.378503257\n"
       ]
      }
     ],
     "prompt_number": 88
    },
    {
     "cell_type": "code",
     "collapsed": false,
     "input": [
      "Sn_mcmc, F1_mcmc, F_mcmc, Theta_mcmc, Theta_mle, P_mle, log_likelihood, marg_lik = mcmc_samp.sampler_with_mcem(Yn_poisson, \\\n",
      "    model=\"poisson\", m=2, cond_module=cond_opt, mcem_module=mcem_opt, ordinate_module=ordinate)"
     ],
     "language": "python",
     "metadata": {},
     "outputs": [],
     "prompt_number": 89
    },
    {
     "cell_type": "code",
     "collapsed": false,
     "input": [
      "print (\"Theta_MLE =\", Theta_mle)\n",
      "print (\"log-likelihood =\", log_likelihood)\n",
      "print (\"marginal-likelihood =\", marg_lik)"
     ],
     "language": "python",
     "metadata": {},
     "outputs": [
      {
       "output_type": "stream",
       "stream": "stdout",
       "text": [
        "Theta_MLE = [ 3.14525235  1.09034126  0.30937427]\n",
        "log-likelihood = -170.63154491\n",
        "marginal-likelihood = -179.592209806\n"
       ]
      }
     ],
     "prompt_number": 95
    },
    {
     "cell_type": "code",
     "collapsed": false,
     "input": [
      "plt.subplot(2, 1, 1)\n",
      "plt.hist(np.where(np.array(Sn_mcmc[:-1] == 1) & np.array(Sn_mcmc[1:] == 2))[0], bins=50);\n",
      "pylab.xlim([0,120])\n",
      "plt.title(\"Replicate Fig 6: Posterior probability function of the two change points\");\n",
      "\n",
      "plt.subplot(2, 1, 2)\n",
      "plt.hist(np.where(np.array(Sn_mcmc[:-1] == 2) & np.array(Sn_mcmc[1:] == 3))[0], bins=50);\n",
      "pylab.xlim([0,120])\n",
      "\n",
      "plt.tight_layout()"
     ],
     "language": "python",
     "metadata": {},
     "outputs": [
      {
       "metadata": {},
       "output_type": "display_data",
       "png": "[encoded data removed]",
       "text": [
        "<matplotlib.figure.Figure at 0x7f5300198950>"
       ]
      }
     ],
     "prompt_number": 127
    },
    {
     "cell_type": "markdown",
     "metadata": {},
     "source": [
      "# Code optimization\n",
      "\n",
      "Due to the sequential updating in MCMC, we cannot vectorize the entire MCMC step. Instead, we can only vectorize within the sampling of $\\Theta$ and $P$. The most time consuming step in each MCMC iteration is the sampling of $S_n$ -- however, due to the nature of the forward-backward algorithm, we cannot speed this part up either."
     ]
    },
    {
     "cell_type": "markdown",
     "metadata": {},
     "source": [
      "The following demonstration shows that the vectorize version of *Theta_sampling* cuts the time in half (from 0.005s to 0.002s). It is important to point out that sampling Theta takes up only a small part of the total time in the MCMC, however."
     ]
    },
    {
     "cell_type": "markdown",
     "metadata": {},
     "source": [
      "- Unoptimized"
     ]
    },
    {
     "cell_type": "code",
     "collapsed": false,
     "input": [
      "%lprun -f cond.Theta_sampling mcmc_samp.sampler(Yn_poisson, model=\"poisson\", m=1, cond_module=cond, max_iter=1, burn_iter=0)"
     ],
     "language": "python",
     "metadata": {},
     "outputs": [
      {
       "output_type": "stream",
       "stream": "stdout",
       "text": [
        "Timer unit: 1e-06 s\n",
        "\n",
        "Total time: 0.005355 s\n",
        "File: changepoint/full_conditionals.py\n",
        "Function: Theta_sampling at line 33\n",
        "\n",
        "Line #      Hits         Time  Per Hit   % Time  Line Contents\n",
        "==============================================================\n",
        "    33                                           def Theta_sampling(Yn, Sn, model):\n",
        "    34                                               '''\n",
        "    35                                               Sample Theta from its full conditional distribution\n",
        "    36                                           \n",
        "    37                                               Args:\n",
        "    38                                                   Yn: n x 1 data vector\n",
        "    39                                                   Sn: n x 1 latent state vector\n",
        "    40                                               \n",
        "    41                                               Returns:\n",
        "    42                                                   a (m + 1) x 1 vector of parameter, one param for each regime\n",
        "    43                                               '''\n",
        "    44         1           48     48.0      0.9      number_of_regimes = len(np.unique(Sn))\n",
        "    45         1            5      5.0      0.1      thetas = np.empty(number_of_regimes)\n",
        "    46                                               \n",
        "    47         3            8      2.7      0.1      for k in range(1, number_of_regimes + 1):\n",
        "    48         2         5293   2646.5     98.8          thetas[k - 1] = Theta_conditional(k, Yn, Sn, model=model).rvs()\n",
        "    49         1            1      1.0      0.0      return thetas\n"
       ]
      }
     ],
     "prompt_number": 73
    },
    {
     "cell_type": "markdown",
     "metadata": {},
     "source": [
      "- Optimized"
     ]
    },
    {
     "cell_type": "code",
     "collapsed": false,
     "input": [
      "%lprun -f cond_opt.Theta_sampling mcmc_samp.sampler(Yn_poisson, model=\"poisson\", m=1, cond_module=cond_opt, max_iter=1, burn_iter=0)"
     ],
     "language": "python",
     "metadata": {},
     "outputs": [
      {
       "output_type": "stream",
       "stream": "stdout",
       "text": [
        "Timer unit: 1e-06 s\n",
        "\n",
        "Total time: 0.002913 s\n",
        "File: changepoint/full_conditionals_opt.py\n",
        "Function: Theta_sampling at line 32\n",
        "\n",
        "Line #      Hits         Time  Per Hit   % Time  Line Contents\n",
        "==============================================================\n",
        "    32                                           def Theta_sampling(Yn, Sn, model):\n",
        "    33                                               '''\n",
        "    34                                               Sample Theta from its full conditional distribution. Vectorized.\n",
        "    35                                           \n",
        "    36                                               Args:\n",
        "    37                                                   Yn: n x 1 data vector\n",
        "    38                                                   Sn: n x 1 latent state vector\n",
        "    39                                               \n",
        "    40                                               Returns:\n",
        "    41                                                   a (m + 1) x 1 vector of parameter, one param for each regime\n",
        "    42                                               '''\n",
        "    43         1           52     52.0      1.8      number_of_regimes = len(np.unique(Sn))\n",
        "    44         1            1      1.0      0.0      m = number_of_regimes - 1\n",
        "    45                                           \n",
        "    46         1           74     74.0      2.5      Nks = Nk(Sn)\n",
        "    47         1           71     71.0      2.4      Uks = Uk(Yn, Sn)\n",
        "    48                                           \n",
        "    49         1            2      2.0      0.1      if model == \"binary\":\n",
        "    50                                                   # Prior\n",
        "    51                                                   a = 2 ; b = 2\n",
        "    52                                                   return st.beta(a + Uks, b + Nks - Uks).rvs()\n",
        "    53         1            1      1.0      0.0      elif model == \"poisson\":\n",
        "    54                                                   # Different priors based on number of breaks\n",
        "    55         1            0      0.0      0.0          if m == 1:\n",
        "    56         1            1      1.0      0.0              a = 2 ; b = 1\n",
        "    57                                                   elif m == 2:\n",
        "    58                                                       a = 3 ; b = 1\n",
        "    59         1         2711   2711.0     93.1          return st.gamma(a + Uks, scale=(1.0 / (b + Nks))).rvs()\n"
       ]
      }
     ],
     "prompt_number": 74
    },
    {
     "cell_type": "markdown",
     "metadata": {},
     "source": [
      "Similar speed-up is achieved in the updating of Theta and P in the Monte Carlo EM. Total time (73.6s -> 67.3s), Theta-M-step (0.63s -> 0.03s). Note how sampling $S_n$ in the E-step takes up the lion-share of computation time (> 98%)"
     ]
    },
    {
     "cell_type": "markdown",
     "metadata": {},
     "source": [
      "- Unoptimized"
     ]
    },
    {
     "cell_type": "code",
     "collapsed": false,
     "input": [
      "%lprun -f mcem_samp.mcem_sampler -f mcem.theta_mstep mcem_samp.mcem_sampler(Yn_poisson, model=\"poisson\", m=1, mcem_module=mcem)"
     ],
     "language": "python",
     "metadata": {},
     "outputs": [
      {
       "output_type": "stream",
       "stream": "stdout",
       "text": [
        "Timer unit: 1e-06 s\n",
        "\n",
        "Total time: 0.627406 s\n",
        "File: changepoint/mcem.py\n",
        "Function: theta_mstep at line 20\n",
        "\n",
        "Line #      Hits         Time  Per Hit   % Time  Line Contents\n",
        "==============================================================\n",
        "    20                                           def theta_mstep(k, Yn, Sns, model):\n",
        "    21                                               '''\n",
        "    22                                               Calculate theta_k, using N samples of Sn\n",
        "    23                                               '''\n",
        "    24       200          292      1.5      0.0      N = Sns.shape[1]\n",
        "    25                                           \n",
        "    26       200          532      2.7      0.1      Uks = np.zeros(N)\n",
        "    27       200          294      1.5      0.0      Nks = np.zeros(N)\n",
        "    28                                           \n",
        "    29     30220        19346      0.6      3.1      for N_ in range(N):\n",
        "    30     30020       308828     10.3     49.2          Uks[N_] = Uk(k, Yn, Sns[:, N_])\n",
        "    31     30020       296273      9.9     47.2          Nks[N_] = Nk(k, Sns[:, N_])\n",
        "    32                                           \n",
        "    33       200          129      0.6      0.0      if model == \"binary\":\n",
        "    34                                                   return 1.0 * Uks.sum() / Nks.sum()\n",
        "    35       200          116      0.6      0.0      if model == \"poisson\":\n",
        "    36       200         1596      8.0      0.3          return 1.0 * Uks.sum() / Nks.sum()\n",
        "\n",
        "Total time: 73.585 s\n",
        "File: changepoint/mcem_sampler.py\n",
        "Function: mcem_sampler at line 7\n",
        "\n",
        "Line #      Hits         Time  Per Hit   % Time  Line Contents\n",
        "==============================================================\n",
        "     7                                           def mcem_sampler(Yn, model, m, mcem_module, tol=None):\n",
        "     8                                               '''\n",
        "     9                                               Calculate the MLE of Theta and P, using Monte Carlo EM.\n",
        "    10                                               \n",
        "    11                                               We use EM because the latent state vector is not observable.\n",
        "    12                                               We use Monte Carlo method because the Q function in the E-step is not available analytically.\n",
        "    13                                           \n",
        "    14                                               Args\n",
        "    15                                                   Yn: array, time series data\n",
        "    16                                                   model: string, e.g. \"binary\", \"poisson\"\n",
        "    17                                                   m: int, number of change points\n",
        "    18                                                   mcem: module, e.g. mcem, mcem_opt\n",
        "    19                                                       Use the regular of optimized version\n",
        "    20                                               '''\n",
        "    21                                               # Initialize\n",
        "    22         1            5      5.0      0.0      n = len(Yn) ; m = m\n",
        "    23         1          162    162.0      0.0      P = init.P(m + 1)\n",
        "    24                                           \n",
        "    25         1            4      4.0      0.0      P[0, 0] = 0.8 # Paper\n",
        "    26         1            2      2.0      0.0      P[0, 1] = 1 - 0.8\n",
        "    27                                           \n",
        "    28         1            2      2.0      0.0      if (m == 2) and (model == \"poisson\"):\n",
        "    29                                                   # Without giving a high chance of staying at state 2, the MCEM gets stuck\n",
        "    30                                                   P[1, 1] = 0.9\n",
        "    31                                                   P[1, 2] = 1 - 0.9\n",
        "    32                                           \n",
        "    33                                               # Initialize Theta\n",
        "    34         1            2      2.0      0.0      if model == \"binary\":\n",
        "    35                                                   Theta = np.repeat(0.5, m + 1)\n",
        "    36         1            2      2.0      0.0      elif model == \"poisson\":\n",
        "    37                                                   #Theta = np.repeat(2, m + 1)\n",
        "    38         1           31     31.0      0.0          Theta = 2 + np.random.rand(m + 1)\n",
        "    39                                           \n",
        "    40                                               # N is the number of Sn sample\n",
        "    41                                               # According to paper, start N = 1 and increases over the MCEM iterations\n",
        "    42         1           52     52.0      0.0      Ns = np.linspace(1, 300, 10).astype(np.int64)\n",
        "    43         1            6      6.0      0.0      Thetas = np.empty((m + 1, 100))\n",
        "    44         1            4      4.0      0.0      Ps = np.empty((m + 1, m + 1, 100))\n",
        "    45                                           \n",
        "    46                                               # Start 100 MCEM steps\n",
        "    47         1            2      2.0      0.0      i = 0\n",
        "    48       101          125      1.2      0.0      while i < 100:\n",
        "    49       100          174      1.7      0.0          N = Ns[i / 10]\n",
        "    50                                           \n",
        "    51                                                   # E-step\n",
        "    52       100     72758913 727589.1     98.9          Sns = mcem_module.S_estep(N, Yn, Theta, P, model=model)\n",
        "    53                                                   #if i <= 3:\n",
        "    54                                                   #    print Sns\n",
        "    55                                           \n",
        "    56                                                   # M-step\n",
        "    57       100          254      2.5      0.0          Theta_old = Theta\n",
        "    58       100       682949   6829.5      0.9          Theta = mcem_module.Theta_mstep(Yn, Sns, model=model)\n",
        "    59       100       141408   1414.1      0.2          P = mcem_module.P_mstep(Sns)\n",
        "    60                                           \n",
        "    61                                                   # Store result across iterations\n",
        "    62       100          312      3.1      0.0          Thetas[:, i] = Theta\n",
        "    63       100          306      3.1      0.0          Ps[:, :, i] = P\n",
        "    64                                           \n",
        "    65                                                   \n",
        "    66                                                   #Stop condition based on convergence\n",
        "    67       100          119      1.2      0.0          if (tol is not None) and (np.allclose(Theta, Theta_old, atol=tol)):\n",
        "    68                                                       break\n",
        "    69                                           \n",
        "    70       100          120      1.2      0.0          i += 1\n",
        "    71                                           \n",
        "    72         1            1      1.0      0.0      return Thetas, Ps\n"
       ]
      }
     ],
     "prompt_number": 72
    },
    {
     "cell_type": "markdown",
     "metadata": {},
     "source": [
      "- Optimized"
     ]
    },
    {
     "cell_type": "code",
     "collapsed": false,
     "input": [
      "%lprun -f mcem_samp.mcem_sampler -f mcem_opt.theta_mstep mcem_samp.mcem_sampler(Yn_poisson, model=\"poisson\", m=1, mcem_module=mcem_opt)"
     ],
     "language": "python",
     "metadata": {},
     "outputs": [
      {
       "output_type": "stream",
       "stream": "stdout",
       "text": [
        "Timer unit: 1e-06 s\n",
        "\n",
        "Total time: 0.029493 s\n",
        "File: changepoint/mcem_opt.py\n",
        "Function: theta_mstep at line 15\n",
        "\n",
        "Line #      Hits         Time  Per Hit   % Time  Line Contents\n",
        "==============================================================\n",
        "    15                                           def theta_mstep(k, Yn, Sns, model):\n",
        "    16                                               '''\n",
        "    17                                               Calculate theta_k, using N samples of Sn. Vectorized.\n",
        "    18                                               '''\n",
        "    19       200        17869     89.3     60.6      Uks = np.sum(Yn[:, np.newaxis] * (Sns == k), axis=0)\n",
        "    20       200         9773     48.9     33.1      Nks = np.sum(Sns == k, axis=0)\n",
        "    21                                           \n",
        "    22       200          159      0.8      0.5      if model == \"binary\":\n",
        "    23                                                   return 1.0 * Uks.sum() / Nks.sum()\n",
        "    24       200           97      0.5      0.3      if model == \"poisson\":\n",
        "    25       200         1595      8.0      5.4          return 1.0 * Uks.sum() / Nks.sum()\n",
        "\n",
        "Total time: 67.3543 s\n",
        "File: changepoint/mcem_sampler.py\n",
        "Function: mcem_sampler at line 7\n",
        "\n",
        "Line #      Hits         Time  Per Hit   % Time  Line Contents\n",
        "==============================================================\n",
        "     7                                           def mcem_sampler(Yn, model, m, mcem_module, tol=None):\n",
        "     8                                               '''\n",
        "     9                                               Calculate the MLE of Theta and P, using Monte Carlo EM.\n",
        "    10                                               \n",
        "    11                                               We use EM because the latent state vector is not observable.\n",
        "    12                                               We use Monte Carlo method because the Q function in the E-step is not available analytically.\n",
        "    13                                           \n",
        "    14                                               Args\n",
        "    15                                                   Yn: array, time series data\n",
        "    16                                                   model: string, e.g. \"binary\", \"poisson\"\n",
        "    17                                                   m: int, number of change points\n",
        "    18                                                   mcem: module, e.g. mcem, mcem_opt\n",
        "    19                                                       Use the regular of optimized version\n",
        "    20                                               '''\n",
        "    21                                               # Initialize\n",
        "    22         1            4      4.0      0.0      n = len(Yn) ; m = m\n",
        "    23         1          151    151.0      0.0      P = init.P(m + 1)\n",
        "    24                                           \n",
        "    25         1            5      5.0      0.0      P[0, 0] = 0.8 # Paper\n",
        "    26         1            2      2.0      0.0      P[0, 1] = 1 - 0.8\n",
        "    27                                           \n",
        "    28         1            2      2.0      0.0      if (m == 2) and (model == \"poisson\"):\n",
        "    29                                                   # Without giving a high chance of staying at state 2, the MCEM gets stuck\n",
        "    30                                                   P[1, 1] = 0.9\n",
        "    31                                                   P[1, 2] = 1 - 0.9\n",
        "    32                                           \n",
        "    33                                               # Initialize Theta\n",
        "    34         1            2      2.0      0.0      if model == \"binary\":\n",
        "    35                                                   Theta = np.repeat(0.5, m + 1)\n",
        "    36         1            2      2.0      0.0      elif model == \"poisson\":\n",
        "    37                                                   #Theta = np.repeat(2, m + 1)\n",
        "    38         1           34     34.0      0.0          Theta = 2 + np.random.rand(m + 1)\n",
        "    39                                           \n",
        "    40                                               # N is the number of Sn sample\n",
        "    41                                               # According to paper, start N = 1 and increases over the MCEM iterations\n",
        "    42         1           52     52.0      0.0      Ns = np.linspace(1, 300, 10).astype(np.int64)\n",
        "    43         1            7      7.0      0.0      Thetas = np.empty((m + 1, 100))\n",
        "    44         1            3      3.0      0.0      Ps = np.empty((m + 1, m + 1, 100))\n",
        "    45                                           \n",
        "    46                                               # Start 100 MCEM steps\n",
        "    47         1            1      1.0      0.0      i = 0\n",
        "    48       101          125      1.2      0.0      while i < 100:\n",
        "    49       100          184      1.8      0.0          N = Ns[i / 10]\n",
        "    50                                           \n",
        "    51                                                   # E-step\n",
        "    52       100     67308444 673084.4     99.9          Sns = mcem_module.S_estep(N, Yn, Theta, P, model=model)\n",
        "    53                                                   #if i <= 3:\n",
        "    54                                                   #    print Sns\n",
        "    55                                           \n",
        "    56                                                   # M-step\n",
        "    57       100          270      2.7      0.0          Theta_old = Theta\n",
        "    58       100        34774    347.7      0.1          Theta = mcem_module.Theta_mstep(Yn, Sns, model=model)\n",
        "    59       100         9408     94.1      0.0          P = mcem_module.P_mstep(Sns)\n",
        "    60                                           \n",
        "    61                                                   # Store result across iterations\n",
        "    62       100          309      3.1      0.0          Thetas[:, i] = Theta\n",
        "    63       100          294      2.9      0.0          Ps[:, :, i] = P\n",
        "    64                                           \n",
        "    65                                                   \n",
        "    66                                                   #Stop condition based on convergence\n",
        "    67       100          120      1.2      0.0          if (tol is not None) and (np.allclose(Theta, Theta_old, atol=tol)):\n",
        "    68                                                       break\n",
        "    69                                           \n",
        "    70       100          124      1.2      0.0          i += 1\n",
        "    71                                           \n",
        "    72         1            1      1.0      0.0      return Thetas, Ps\n"
       ]
      }
     ],
     "prompt_number": 75
    },
    {
     "cell_type": "markdown",
     "metadata": {},
     "source": [
      "# Comparison with existing packages"
     ]
    },
    {
     "cell_type": "markdown",
     "metadata": {},
     "source": [
      "We compare our algorithm with:\n",
      "\n",
      "- The R implementation in package **MCMCpack**, which produces identical result to ours (See Figures below). (In fact, the marginal likelihood calculation is more similar to ours than to the original paper). \n",
      "- Another Bayesian change point model, by Barry and Hartigan (1993), which gives similar conclusion. This model detect the number of regimes in the data, their means and variances. The result also suggests one break point, with two regimes having means $= [3, 1]$, similar to our Poisson model (See Figures below).\n",
      "\n",
      "These two packages in R / C++ implementation run a lot faster than our implementation however (2.83s and 1.86s, compared to > 1 min in our implementation)."
     ]
    },
    {
     "cell_type": "code",
     "collapsed": false,
     "input": [
      "%%timeit\n",
      "%%R -i Yn_poisson\n",
      "library(MCMCpack)\n",
      "dat <- data.frame(Yn_poisson)\n",
      "model <- MCMCpoissonChange(Yn_poisson ~ 1, data.frame=Yn_poisson, c0 = 2, d0 = 1,\n",
      "                  burnin=1000, mcmc=5000,\n",
      "                  m = 1, marginal.likelihood=\"Chib95\")"
     ],
     "language": "python",
     "metadata": {},
     "outputs": [
      {
       "output_type": "stream",
       "stream": "stdout",
       "text": [
        "1 loops, best of 3: 2.82 s per loop\n"
       ]
      }
     ],
     "prompt_number": 160
    },
    {
     "cell_type": "code",
     "collapsed": false,
     "input": [
      "%%timeit\n",
      "%%R -i Yn_poisson\n",
      "library(bcp)\n",
      "model2 <- bcp(as.numeric(Yn_poisson), burnin=1000, mcmc=5000, return.mcmc=TRUE)"
     ],
     "language": "python",
     "metadata": {},
     "outputs": [
      {
       "output_type": "stream",
       "stream": "stdout",
       "text": [
        "1 loops, best of 3: 1.86 s per loop\n"
       ]
      }
     ],
     "prompt_number": 168
    },
    {
     "cell_type": "markdown",
     "metadata": {},
     "source": [
      "### MCMCpack implementation of Chib (1998)"
     ]
    },
    {
     "cell_type": "code",
     "collapsed": false,
     "input": [
      "%%R -i Yn_poisson -w 250 -h 250 -u px\n",
      "library(MCMCpack)\n",
      "dat <- data.frame(Yn_poisson)\n",
      "model <- MCMCpoissonChange(Yn_poisson ~ 1, data.frame=Yn_poisson, c0 = 2, d0 = 1,\n",
      "                  burnin=1000, mcmc=5000,\n",
      "                  m = 1, marginal.likelihood=\"Chib95\")\n",
      "print(paste(\"log-likelihood\", attr(model, \"loglike\")))\n",
      "print(paste(\"log-marginal-likelihood\", attr(model, \"logmarglike\")))\n",
      "plotState(model)\n",
      "plotChangepoint(model)"
     ],
     "language": "python",
     "metadata": {},
     "outputs": [
      {
       "metadata": {},
       "output_type": "display_data",
       "text": [
        "[1] \"log-likelihood -172.194701317687\"\n",
        "[1] \"log-marginal-likelihood -178.354928104687\"\n"
       ]
      },
      {
       "metadata": {},
       "output_type": "display_data",
       "png": "[encoded data removed]"
      },
      {
       "metadata": {},
       "output_type": "display_data",
       "png": "[encoded data removed]"
      }
     ],
     "prompt_number": 178
    },
    {
     "cell_type": "markdown",
     "metadata": {},
     "source": [
      "### bcp Implementation of Barry and Hartigan (1993)"
     ]
    },
    {
     "cell_type": "code",
     "collapsed": false,
     "input": [
      "%%R -i Yn_poisson -w 250 -h 250 -u px\n",
      "library(bcp)\n",
      "model2 <- bcp(as.numeric(Yn_poisson), burnin=1000, mcmc=5000, return.mcmc=TRUE)\n",
      "plot.bcp(model2)"
     ],
     "language": "python",
     "metadata": {},
     "outputs": [
      {
       "metadata": {},
       "output_type": "display_data",
       "png": "[encoded data removed]"
      }
     ],
     "prompt_number": 179
    },
    {
     "cell_type": "code",
     "collapsed": false,
     "input": [],
     "language": "python",
     "metadata": {},
     "outputs": []
    }
   ],
   "metadata": {}
  }
 ]
}
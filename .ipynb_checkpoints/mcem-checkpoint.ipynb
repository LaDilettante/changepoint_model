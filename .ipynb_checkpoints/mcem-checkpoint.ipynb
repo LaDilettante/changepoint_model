{
 "metadata": {
  "name": "",
  "signature": "sha256:317ffb63ccd33aa28e6c7ef76f6c7f194bbb5c9408ee3243f1a2d8c410a71484"
 },
 "nbformat": 3,
 "nbformat_minor": 0,
 "worksheets": [
  {
   "cells": [
    {
     "cell_type": "code",
     "collapsed": false,
     "input": [
      "from changepoint.sampler import *\n",
      "from changepoint.full_conditionals import *\n",
      "from changepoint.mcem import *\n",
      "import matplotlib.pyplot as plt\n",
      "%matplotlib inline\n",
      "%load_ext rpy2.ipython\n",
      "%load_ext autoreload\n",
      "%autoreload 2"
     ],
     "language": "python",
     "metadata": {},
     "outputs": [],
     "prompt_number": 1
    },
    {
     "cell_type": "code",
     "collapsed": false,
     "input": [
      "Yn = mcem_sampler.binary_true_data()\n",
      "\n",
      "n = 150\n",
      "m = 2\n",
      "\n",
      "P = init.P(m + 1)\n",
      "Theta = np.array([0.5, 0.5, 0.5])\n",
      "delta = 1\n",
      "tol = 1e-6\n",
      "    \n",
      "    while (i < max_iter):\n",
      "\n",
      "        Sn, F, F1 = cond.S_sampling(Yn, Theta, P, model=\"binary\")\n",
      "        Theta = cond.Theta_sampling(Yn, Sn, model=\"binary\")\n",
      "        P = cond.P_sampling(Sn, a, b)\n",
      "\n",
      "        F1_mcmc[:, :, i] = F1\n",
      "        F_mcmc[:, :, i] = F\n",
      "        Theta_mcmc[:, i] = Theta\n",
      "        i += 1\n",
      "\n",
      "    return Sn, F1_mcmc, F_mcmc, Theta_mcmc, P "
     ],
     "language": "python",
     "metadata": {},
     "outputs": []
    }
   ],
   "metadata": {}
  }
 ]
}
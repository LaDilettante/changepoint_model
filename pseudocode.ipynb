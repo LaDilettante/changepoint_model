{
 "metadata": {
  "name": "",
  "signature": "sha256:bcc0c53b51292152fa39ed08c4b183ac98db968769e713aef9b861c73f34ad85"
 },
 "nbformat": 3,
 "nbformat_minor": 0,
 "worksheets": [
  {
   "cells": [
    {
     "cell_type": "markdown",
     "metadata": {},
     "source": [
      "# Pseudocode"
     ]
    },
    {
     "cell_type": "markdown",
     "metadata": {},
     "source": [
      "Gibbs sampler for binary data with change point\n",
      "\n",
      "$y_t \\sim Bernouli(\\xi_t)$\n",
      "\n",
      "Initialize\n",
      "\n",
      "until convergence:\n",
      "- Sample $\\Theta \\mid Y_n, S_n, P$: $\\pi(\\theta_k \\mid Y_n, S_n, P) = Beta(\\theta_k \\mid 2 + U_k, 2 + N_k - U_k)$ where\n",
      "  - $N_k = \\sum_{t=1}^{n}I(s_t=k)$ is the number of observation ascribed to regime $k$. Use updated $S_n$ for this\n",
      "  - $U_k = \\sum_{t=1}^{n}I(s_t=k)y_t$ is the sum of the $y_t$ in regime $k$. Use updated $S_n$ and observed $Y_n$ for this\n",
      "- Sample $P \\mid S_n$: $p_{ii} \\mid S_n \\sim Beta(a + n_{ii}, b + 1)$ where\n",
      "  - $n_{ii}$ denotes the number of one-step transition from state $i$ to state $i$ in the sequence $S_n$. Use updated $S_n$ for this\n",
      "- Sample $S_n \\mid Y_n, \\Theta, P$\n",
      "\n",
      "  "
     ]
    },
    {
     "cell_type": "markdown",
     "metadata": {},
     "source": [
      "Details on how to sample $S_n \\mid Y_n, \\Theta, P$\n",
      "\n",
      "We can disaggregate the joint distribution of $S_n \\mid Y_n, \\Theta, P$ in reverse time order as\n",
      "\n",
      "$p(s_{n-1}|Y_n,s_n,\\Theta,P) \\times \\dots \\times p(s_t|Y_n, S^{t+1}, \\Theta, P) \\times \\dot \\times p(s_1|Y_n, S^2, \\Theta, P)$\n",
      "\n",
      "The typical element $p(s_t|Y_n, S^{t+1}, \\Theta, P) \\propto p(s_t | Y_t, \\Theta, P) p(s_{t+1}|s_t, P)$ \n",
      "\n",
      "The first element ($p(s_t | Y_t, \\Theta, P)$) can be determined recursively for all $t$ starting with period 1. Suppose that $p(s_{t-1}=l|Y_{t-1}, S^{t}, \\Theta,P)$ is available. Then repeat the following step:\n",
      "- Prediction step: $p(s_t=k | Y_{t-1}, \\Theta, P) = \\sum_{l=k-1}^{k} p_{lk} \\times p(s_{t-1}=l | Y_{t-1}, \\Theta,P)$\n",
      "- Update step: $p(s_t =k | Y_t, \\Theta, P) \\propto p(s_t=k|Y_{t-1}, \\Theta, P) \\times f(y_t | Y_{t-1}, \\theta_k)$\n",
      "\n",
      "Note that in this Bernoulli DGP, $f(y_t | Y_{t-1}, \\theta_k) = \\theta_k^{y_t}(1 - \\theta_k)^{1-y_t}$"
     ]
    },
    {
     "cell_type": "markdown",
     "metadata": {},
     "source": [
      "To run these prediction and update steps, we could store the relevant mass functions $p(s_t =k | Y_t, \\Theta, P)$ in a $n\\times (m + 1)$ storage matrix F.\n",
      "\n",
      "For example, if we have 4 data points and 2 change points (i.e. 3 regimes)\n",
      "$F = \\left(\\begin{matrix}\n",
      ". & . & . \\\\\n",
      "p(s_2 = 1 | Y_2, \\Theta, P) & p(s_2 = 2 | Y_2, \\Theta, P) & p(s_2 = 3 | Y_2, \\Theta, P) \\\\\n",
      "p(s_3 = 1 | Y_3, \\Theta, P) & p(s_3 = 2 | Y_3, \\Theta, P) & p(s_3 = 3 | Y_3, \\Theta, P) \\\\\n",
      ". & . & . \n",
      "\\end{matrix}\\right)$\n",
      "\n",
      "Then notice that $F_3 \\propto (F_2P') \\cdot d_3$, with $F_t$ being the $t^{th}$ row of F, and $d_t$ is a row vector consisting of $f(y_t|Y_{t-1}, \\theta_{s_t})$ and $\\cdot$ is the element-wise multiplication operator (Is it $F_2 P'$ or $F_2' P$?)"
     ]
    },
    {
     "cell_type": "markdown",
     "metadata": {},
     "source": [
      "$$\n",
      "\\begin{align}\n",
      "F_2 \\times P' &= \n",
      "\\left[\\begin{matrix}\n",
      "p(s_2 = 1 | Y_2, \\Theta, P) & p(s_2 = 2 | Y_2, \\Theta, P) & p(s_2 = 3 | Y_2, \\Theta, P)\n",
      "\\end{matrix}\\right]\n",
      "\\times\n",
      "\\left[\\begin{matrix} \n",
      "p_{11} & 0 & 0 \\\\\n",
      "p_{12} & p_{22} & 0 \\\\\n",
      "0 & p_{23} & p_{33}=1\n",
      "\\end{matrix}\\right] \\\\\n",
      "&= \\left[\\begin{matrix}\n",
      "\\dots & \\dots & \\dots\n",
      "\\end{matrix}\\right]\n",
      "\\end{align}\n",
      "$$"
     ]
    },
    {
     "cell_type": "markdown",
     "metadata": {},
     "source": [
      "Let's do the middle element to check:"
     ]
    },
    {
     "cell_type": "markdown",
     "metadata": {},
     "source": [
      "$$\n",
      "\\begin{align}\n",
      "p(s_3 = 2 | Y_3, \\Theta, P) \\propto & & p(s_2 = 1 | Y_2, \\Theta, P)\\times p_{12} \\times f(y_3|Y_2,\\theta_2) \\\\ \n",
      "&+ & p(s_2 = 2 | Y_2, \\Theta, P) \\times p_{22} \\times f(y_3|Y_2,\\theta_2) \n",
      "\\end{align}$$"
     ]
    },
    {
     "cell_type": "markdown",
     "metadata": {},
     "source": [
      "$$\n",
      "\\begin{align}\n",
      "\\log p(s_3 = 2 | Y_3, \\Theta, P) \\propto \\log\\left( p(s_2 = 1 | Y_2, \\Theta, P)\\times p_{12} + p(s_2 = 2 | Y_2, \\Theta, P) \\times p_{22} \\right) + \\log f(y_3|Y_2,\\theta_2) \n",
      "\\end{align}$$"
     ]
    },
    {
     "cell_type": "markdown",
     "metadata": {},
     "source": [
      "# Toy model to check algorithm correctness\n",
      "\n",
      "Using Bernoulli DGP with 3 regimes as in Chib (1998)"
     ]
    }
   ],
   "metadata": {}
  }
 ]
}
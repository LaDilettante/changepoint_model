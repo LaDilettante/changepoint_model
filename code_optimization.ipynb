{
 "metadata": {
  "name": "",
  "signature": "sha256:0dec719a6bc3711c70357221c1b6a24a23eb1487649e614bf5734f1cb3caf092"
 },
 "nbformat": 3,
 "nbformat_minor": 0,
 "worksheets": [
  {
   "cells": [
    {
     "cell_type": "code",
     "collapsed": false,
     "input": [
      "from changepoint.sampler import *\n",
      "from changepoint.mcem_sampler import *\n",
      "import changepoint.init_functions as init\n",
      "import matplotlib.pyplot as plt\n",
      "from __future__ import print_function\n",
      "from IPython.core import page\n",
      "page.page = print # print instead of opening pager\n",
      "%matplotlib inline\n",
      "%load_ext line_profiler\n",
      "%load_ext autoreload\n",
      "%autoreload 2"
     ],
     "language": "python",
     "metadata": {},
     "outputs": [
      {
       "output_type": "stream",
       "stream": "stdout",
       "text": [
        "The line_profiler extension is already loaded. To reload it, use:\n",
        "  %reload_ext line_profiler\n",
        "The autoreload extension is already loaded. To reload it, use:\n",
        "  %reload_ext autoreload\n"
       ]
      }
     ],
     "prompt_number": 38
    },
    {
     "cell_type": "code",
     "collapsed": false,
     "input": [
      "Yn_poisson = init.poisson_data()"
     ],
     "language": "python",
     "metadata": {},
     "outputs": [],
     "prompt_number": 10
    },
    {
     "cell_type": "code",
     "collapsed": false,
     "input": [
      "%lprun -f cond.Theta_sampling sampler(Yn_poisson, model=\"poisson\", m=1, cond=cond, max_iter=100, burn_iter=0)"
     ],
     "language": "python",
     "metadata": {},
     "outputs": [
      {
       "output_type": "stream",
       "stream": "stdout",
       "text": [
        "Timer unit: 1e-06 s\n",
        "\n",
        "Total time: 0.318176 s\n",
        "File: changepoint/full_conditionals.py\n",
        "Function: Theta_sampling at line 33\n",
        "\n",
        "Line #      Hits         Time  Per Hit   % Time  Line Contents\n",
        "==============================================================\n",
        "    33                                           def Theta_sampling(Yn, Sn, model):\n",
        "    34                                               '''\n",
        "    35                                               Sample Theta from its full conditional distribution\n",
        "    36                                           \n",
        "    37                                               Args:\n",
        "    38                                                   Yn: n x 1 data vector\n",
        "    39                                                   Sn: n x 1 latent state vector\n",
        "    40                                               \n",
        "    41                                               Returns:\n",
        "    42                                                   a (m + 1) x 1 vector of parameter, one param for each regime\n",
        "    43                                               '''\n",
        "    44       100         2840     28.4      0.9      number_of_regimes = len(np.unique(Sn))\n",
        "    45       100          328      3.3      0.1      thetas = np.empty(number_of_regimes)\n",
        "    46                                               \n",
        "    47       300          476      1.6      0.1      for k in range(1, number_of_regimes + 1):\n",
        "    48       200       314488   1572.4     98.8          thetas[k - 1] = Theta_conditional(k, Yn, Sn, model=model).rvs()\n",
        "    49       100           44      0.4      0.0      return thetas\n"
       ]
      }
     ],
     "prompt_number": 18
    },
    {
     "cell_type": "code",
     "collapsed": false,
     "input": [
      "%lprun -r -f cond_opt.Theta_sampling sampler(Yn_poisson, model=\"poisson\", m=1, cond=cond_opt, max_iter=100, burn_iter=0)"
     ],
     "language": "python",
     "metadata": {},
     "outputs": [
      {
       "output_type": "stream",
       "stream": "stdout",
       "text": [
        "Timer unit: 1e-06 s\n",
        "\n",
        "Total time: 0.309771 s\n",
        "File: changepoint/full_conditionals_opt.py\n",
        "Function: Theta_sampling at line 8\n",
        "\n",
        "Line #      Hits         Time  Per Hit   % Time  Line Contents\n",
        "==============================================================\n",
        "     8                                           def Theta_sampling(Yn, Sn, model):\n",
        "     9                                               '''\n",
        "    10                                               Sample Theta from its full conditional distribution\n",
        "    11                                           \n",
        "    12                                               Args:\n",
        "    13                                                   Yn: n x 1 data vector\n",
        "    14                                                   Sn: n x 1 latent state vector\n",
        "    15                                               \n",
        "    16                                               Returns:\n",
        "    17                                                   a (m + 1) x 1 vector of parameter, one param for each regime\n",
        "    18                                               '''\n",
        "    19       100         2777     27.8      0.9      number_of_regimes = len(np.unique(Sn))\n",
        "    20                                           \n",
        "    21       100          283      2.8      0.1      k = np.arange(1, number_of_regimes + 1)\n",
        "    22       100          119      1.2      0.0      f = lambda k: Theta_conditional(k, Yn, Sn, model).rvs() # Lambda function for a single k\n",
        "    23       100          264      2.6      0.1      f_array = np.frompyfunc(f, 1, 1) # Vectorize the function for an array of k's\n",
        "    24       100       306203   3062.0     98.8      Theta = f_array(k)\n",
        "    25                                               \n",
        "    26       100          125      1.2      0.0      return Theta\n"
       ]
      },
      {
       "metadata": {},
       "output_type": "pyout",
       "prompt_number": 19,
       "text": [
        "<line_profiler.LineProfiler at 0x7f8f95c98ae0>"
       ]
      }
     ],
     "prompt_number": 19
    },
    {
     "cell_type": "markdown",
     "metadata": {},
     "source": [
      "# MCEM"
     ]
    },
    {
     "cell_type": "code",
     "collapsed": false,
     "input": [
      "%lprun -f mcem.theta_mstep -f mcem.p_mstep Thetas, Theta, P = mcem_sampler(Yn_poisson, model=\"poisson\", m=1, mcem=mcem)"
     ],
     "language": "python",
     "metadata": {},
     "outputs": [
      {
       "output_type": "stream",
       "stream": "stdout",
       "text": [
        "Timer unit: 1e-06 s\n",
        "\n",
        "Total time: 0.528621 s\n",
        "File: changepoint/mcem.py\n",
        "Function: theta_mstep at line 20\n",
        "\n",
        "Line #      Hits         Time  Per Hit   % Time  Line Contents\n",
        "==============================================================\n",
        "    20                                           def theta_mstep(k, Yn, Sns, model):\n",
        "    21                                               '''\n",
        "    22                                               Calculate theta_k, using N samples of Sn\n",
        "    23                                               '''\n",
        "    24       200          417      2.1      0.1      N = Sns.shape[1]\n",
        "    25                                           \n",
        "    26       200          523      2.6      0.1      Uks = np.zeros(N)\n",
        "    27       200          298      1.5      0.1      Nks = np.zeros(N)\n",
        "    28                                           \n",
        "    29     30220        16961      0.6      3.2      for N_ in range(N):\n",
        "    30     30020       266386      8.9     50.4          Uks[N_] = Uk(k, Yn, Sns[:, N_])\n",
        "    31     30020       242350      8.1     45.8          Nks[N_] = Nk(k, Sns[:, N_])\n",
        "    32                                           \n",
        "    33       200          134      0.7      0.0      if model == \"binary\":\n",
        "    34                                                   return 1.0 * Uks.sum() / Nks.sum()\n",
        "    35       200          118      0.6      0.0      if model == \"poisson\":\n",
        "    36       200         1434      7.2      0.3          return 1.0 * Uks.sum() / Nks.sum()\n",
        "\n",
        "Total time: 0.135602 s\n",
        "File: changepoint/mcem.py\n",
        "Function: p_mstep at line 57\n",
        "\n",
        "Line #      Hits         Time  Per Hit   % Time  Line Contents\n",
        "==============================================================\n",
        "    57                                           def p_mstep(i, Sns):\n",
        "    58                                               '''\n",
        "    59                                               Calculate p_ii = \\frac{\\sum_j n_ii,j}{\\sum_j (n_ii,j + 1)} from Eq 13\n",
        "    60                                               '''\n",
        "    61       100          126      1.3      0.1      N = Sns.shape[1] # Number of Sn samples\n",
        "    62                                           \n",
        "    63       100          235      2.4      0.2      n_iis = np.zeros(N)\n",
        "    64     15110         6724      0.4      5.0      for N_ in range(N):\n",
        "    65     15010       118184      7.9     87.2          n_ii = np.sum(Sns[:, N_] == i) - 1\n",
        "    66     15010         9576      0.6      7.1          n_iis[N_] = n_ii\n",
        "    67                                           \n",
        "    68       100          757      7.6      0.6      return 1.0 * n_iis.sum() / (n_iis.sum() + N)\n"
       ]
      }
     ],
     "prompt_number": 60
    },
    {
     "cell_type": "code",
     "collapsed": false,
     "input": [
      "plt.plot(Thetas.T);"
     ],
     "language": "python",
     "metadata": {},
     "outputs": [
      {
       "metadata": {},
       "output_type": "display_data",
       "png": "[encoded data removed]",
       "text": [
        "<matplotlib.figure.Figure at 0x7f8f95821fd0>"
       ]
      }
     ],
     "prompt_number": 61
    },
    {
     "cell_type": "code",
     "collapsed": false,
     "input": [
      "%lprun -f mcem_opt.theta_mstep -f mcem_opt.p_mstep Thetas, Theta, P = mcem_sampler(Yn_poisson, model=\"poisson\", m=1, mcem=mcem_opt)"
     ],
     "language": "python",
     "metadata": {},
     "outputs": [
      {
       "output_type": "stream",
       "stream": "stdout",
       "text": [
        "Timer unit: 1e-06 s\n",
        "\n",
        "Total time: 0.030131 s\n",
        "File: changepoint/mcem_opt.py\n",
        "Function: theta_mstep at line 8\n",
        "\n",
        "Line #      Hits         Time  Per Hit   % Time  Line Contents\n",
        "==============================================================\n",
        "     8                                           def theta_mstep(k, Yn, Sns, model):\n",
        "     9                                               '''\n",
        "    10                                               Calculate theta_k, using N samples of Sn\n",
        "    11                                               '''\n",
        "    12       200        18689     93.4     62.0      Uks = np.sum(Yn[:, np.newaxis] * (Sns == k), axis=0)\n",
        "    13       200         9834     49.2     32.6      Nks = np.sum(Sns == k, axis=0)\n",
        "    14                                           \n",
        "    15       200          157      0.8      0.5      if model == \"binary\":\n",
        "    16                                                   return 1.0 * Uks.sum() / Nks.sum()\n",
        "    17       200          100      0.5      0.3      if model == \"poisson\":\n",
        "    18       200         1351      6.8      4.5          return 1.0 * Uks.sum() / Nks.sum()\n",
        "\n",
        "Total time: 0.005972 s\n",
        "File: changepoint/mcem_opt.py\n",
        "Function: p_mstep at line 39\n",
        "\n",
        "Line #      Hits         Time  Per Hit   % Time  Line Contents\n",
        "==============================================================\n",
        "    39                                           def p_mstep(i, Sns):\n",
        "    40                                               '''\n",
        "    41                                               Calculate p_ii = \\frac{\\sum_j n_ii,j}{\\sum_j (n_ii,j + 1)} from Eq 13\n",
        "    42                                               '''\n",
        "    43       100         5138     51.4     86.0      n_iis = np.sum(Sns == i, axis=0) - 1\n",
        "    44                                           \n",
        "    45       100          834      8.3     14.0      return 1.0 * n_iis.sum() / (n_iis.sum() + len(n_iis))\n"
       ]
      }
     ],
     "prompt_number": 66
    },
    {
     "cell_type": "code",
     "collapsed": false,
     "input": [
      "plt.plot(Thetas.T);"
     ],
     "language": "python",
     "metadata": {},
     "outputs": [
      {
       "metadata": {},
       "output_type": "display_data",
       "png": "[encoded data removed]",
       "text": [
        "<matplotlib.figure.Figure at 0x7f8f95a631d0>"
       ]
      }
     ],
     "prompt_number": 65
    },
    {
     "cell_type": "code",
     "collapsed": false,
     "input": [],
     "language": "python",
     "metadata": {},
     "outputs": []
    }
   ],
   "metadata": {}
  }
 ]
}
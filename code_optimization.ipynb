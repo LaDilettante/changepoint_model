{
 "metadata": {
  "name": "",
  "signature": "sha256:be5a6fc877cd6b396f1e8e014cc43b4c73b219f3753e860d98e875aee7cb000c"
 },
 "nbformat": 3,
 "nbformat_minor": 0,
 "worksheets": [
  {
   "cells": [
    {
     "cell_type": "code",
     "collapsed": false,
     "input": [
      "from changepoint.sampler import *\n",
      "import matplotlib.pyplot as plt\n",
      "from __future__ import print_function\n",
      "from IPython.core import page\n",
      "page.page = print # print instead of opening pager\n",
      "%matplotlib inline\n",
      "%load_ext line_profiler\n",
      "%load_ext autoreload\n",
      "%autoreload 2"
     ],
     "language": "python",
     "metadata": {},
     "outputs": [
      {
       "output_type": "stream",
       "stream": "stdout",
       "text": [
        "The line_profiler extension is already loaded. To reload it, use:\n",
        "  %reload_ext line_profiler\n",
        "The autoreload extension is already loaded. To reload it, use:\n",
        "  %reload_ext autoreload\n"
       ]
      }
     ],
     "prompt_number": 52
    },
    {
     "cell_type": "code",
     "collapsed": false,
     "input": [
      "np.random.seed(2103)\n",
      "Yn = binary_true_data()"
     ],
     "language": "python",
     "metadata": {},
     "outputs": [],
     "prompt_number": 33
    },
    {
     "cell_type": "code",
     "collapsed": false,
     "input": [
      "%lprun -r -f binary_sampler binary_sampler(Yn, max_iter=1, burn_iter=0)"
     ],
     "language": "python",
     "metadata": {},
     "outputs": [
      {
       "output_type": "stream",
       "stream": "stdout",
       "text": [
        "Timer unit: 1e-06 s\n",
        "\n",
        "Total time: 0.068434 s\n",
        "File: changepoint/sampler.py\n",
        "Function: binary_sampler at line 16\n",
        "\n",
        "Line #      Hits         Time  Per Hit   % Time  Line Contents\n",
        "==============================================================\n",
        "    16                                           def binary_sampler(Yn, max_iter=6000, burn_iter=1000, cond=cond):\n",
        "    17                                               # Initialize\n",
        "    18         1            2      2.0      0.0      n = 150 ; m = 2\n",
        "    19         1          257    257.0      0.4      Sn = init.S(n, m)\n",
        "    20         1           90     90.0      0.1      P = init.P(m + 1)\n",
        "    21         1            5      5.0      0.0      Theta = np.array([0.5, 0.5, 0.5])\n",
        "    22                                               # Prior\n",
        "    23         1            1      1.0      0.0      a = 8 ; b = 0.1\n",
        "    24                                           \n",
        "    25         1            4      4.0      0.0      F1_mcmc = np.empty((n, m + 1, max_iter))\n",
        "    26         1            3      3.0      0.0      F_mcmc = np.empty((n, m + 1, max_iter))\n",
        "    27         1            2      2.0      0.0      Theta_mcmc = np.empty((m + 1, max_iter))\n",
        "    28                                           \n",
        "    29         1            1      1.0      0.0      i = 0\n",
        "    30         2            3      1.5      0.0      while (i < max_iter):\n",
        "    31                                           \n",
        "    32         1        59368  59368.0     86.8          Sn, F, F1 = cond.S_sampling(Yn, Theta, P, model=\"binary\")\n",
        "    33         1         5523   5523.0      8.1          Theta = cond.Theta_sampling(Yn, Sn, model=\"binary\")\n",
        "    34         1         3162   3162.0      4.6          P = cond.P_sampling(Sn, a, b)\n",
        "    35                                           \n",
        "    36         1            6      6.0      0.0          F1_mcmc[:, :, i] = F1\n",
        "    37         1            3      3.0      0.0          F_mcmc[:, :, i] = F\n",
        "    38         1            2      2.0      0.0          Theta_mcmc[:, i] = Theta\n",
        "    39         1            1      1.0      0.0          i += 1\n",
        "    40                                           \n",
        "    41         1            1      1.0      0.0      return Sn, F1_mcmc, F_mcmc, Theta_mcmc, P\n"
       ]
      },
      {
       "metadata": {},
       "output_type": "pyout",
       "prompt_number": 115,
       "text": [
        "<line_profiler.LineProfiler at 0x7fa79e93aa78>"
       ]
      }
     ],
     "prompt_number": 115
    },
    {
     "cell_type": "code",
     "collapsed": false,
     "input": [
      "%lprun -r -f binary_sampler binary_sampler(Yn, max_iter=1, burn_iter=0, cond=cond_opt)"
     ],
     "language": "python",
     "metadata": {},
     "outputs": [
      {
       "output_type": "stream",
       "stream": "stdout",
       "text": [
        "Timer unit: 1e-06 s\n",
        "\n",
        "Total time: 0.070245 s\n",
        "File: changepoint/sampler.py\n",
        "Function: binary_sampler at line 16\n",
        "\n",
        "Line #      Hits         Time  Per Hit   % Time  Line Contents\n",
        "==============================================================\n",
        "    16                                           def binary_sampler(Yn, max_iter=6000, burn_iter=1000, cond=cond):\n",
        "    17                                               # Initialize\n",
        "    18         1            2      2.0      0.0      n = 150 ; m = 2\n",
        "    19         1          249    249.0      0.4      Sn = init.S(n, m)\n",
        "    20         1           90     90.0      0.1      P = init.P(m + 1)\n",
        "    21         1            6      6.0      0.0      Theta = np.array([0.5, 0.5, 0.5])\n",
        "    22                                               # Prior\n",
        "    23         1            1      1.0      0.0      a = 8 ; b = 0.1\n",
        "    24                                           \n",
        "    25         1            4      4.0      0.0      F1_mcmc = np.empty((n, m + 1, max_iter))\n",
        "    26         1            2      2.0      0.0      F_mcmc = np.empty((n, m + 1, max_iter))\n",
        "    27         1            2      2.0      0.0      Theta_mcmc = np.empty((m + 1, max_iter))\n",
        "    28                                           \n",
        "    29         1            1      1.0      0.0      i = 0\n",
        "    30         2            3      1.5      0.0      while (i < max_iter):\n",
        "    31                                           \n",
        "    32         1        66877  66877.0     95.2          Sn, F, F1 = cond.S_sampling(Yn, Theta, P, model=\"binary\")\n",
        "    33         1         1569   1569.0      2.2          Theta = cond.Theta_sampling(Yn, Sn, model=\"binary\")\n",
        "    34         1         1429   1429.0      2.0          P = cond.P_sampling(Sn, a, b)\n",
        "    35                                           \n",
        "    36         1            4      4.0      0.0          F1_mcmc[:, :, i] = F1\n",
        "    37         1            2      2.0      0.0          F_mcmc[:, :, i] = F\n",
        "    38         1            2      2.0      0.0          Theta_mcmc[:, i] = Theta\n",
        "    39         1            1      1.0      0.0          i += 1\n",
        "    40                                           \n",
        "    41         1            1      1.0      0.0      return Sn, F1_mcmc, F_mcmc, Theta_mcmc, P\n"
       ]
      },
      {
       "metadata": {},
       "output_type": "pyout",
       "prompt_number": 117,
       "text": [
        "<line_profiler.LineProfiler at 0x7fa79e93af58>"
       ]
      }
     ],
     "prompt_number": 117
    },
    {
     "cell_type": "code",
     "collapsed": false,
     "input": [
      "def dup(x):\n",
      "    return np.array([x, x]), np.array([x, x*2])\n",
      "a = np.array([1,2,3])\n",
      "dup_array = np.frompyfunc(dup, 1, 2)\n",
      "dup_array(a)"
     ],
     "language": "python",
     "metadata": {},
     "outputs": [
      {
       "metadata": {},
       "output_type": "pyout",
       "prompt_number": 113,
       "text": [
        "(array([array([1, 1]), array([2, 2]), array([3, 3])], dtype=object),\n",
        " array([array([1, 2]), array([2, 4]), array([3, 6])], dtype=object))"
       ]
      }
     ],
     "prompt_number": 113
    },
    {
     "cell_type": "code",
     "collapsed": false,
     "input": [
      "np.vstack(dup_array(a)[0])"
     ],
     "language": "python",
     "metadata": {},
     "outputs": [
      {
       "metadata": {},
       "output_type": "pyout",
       "prompt_number": 114,
       "text": [
        "array([[1, 1],\n",
        "       [2, 2],\n",
        "       [3, 3]])"
       ]
      }
     ],
     "prompt_number": 114
    },
    {
     "cell_type": "code",
     "collapsed": false,
     "input": [],
     "language": "python",
     "metadata": {},
     "outputs": []
    }
   ],
   "metadata": {}
  }
 ]
}
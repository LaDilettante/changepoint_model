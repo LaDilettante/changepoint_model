{
 "metadata": {
  "name": "",
  "signature": "sha256:ebfd11a19b87b3e6a832d91012beda99dbf166a6aece347063985094e8d760f4"
 },
 "nbformat": 3,
 "nbformat_minor": 0,
 "worksheets": [
  {
   "cells": [
    {
     "cell_type": "code",
     "collapsed": false,
     "input": [
      "from changepoint.sampler import *\n",
      "from changepoint.mcem_sampler import *\n",
      "import matplotlib.pyplot as plt\n",
      "from __future__ import print_function\n",
      "from IPython.core import page\n",
      "page.page = print # print instead of opening pager\n",
      "%matplotlib inline\n",
      "%load_ext line_profiler\n",
      "%load_ext autoreload\n",
      "%autoreload 2"
     ],
     "language": "python",
     "metadata": {},
     "outputs": [],
     "prompt_number": 1
    },
    {
     "cell_type": "code",
     "collapsed": false,
     "input": [
      "Yn_poisson = np.array([4, \n",
      "5, 4, 1, 0, 4, 3, 4, 0, 6, 3, 3, 4, 0, 2, 6, 3, 3, 5, 4, 5, 3, \n",
      "1, 4, 4, 1, 5, 5, 3, 4, 2, 5, 2, 2, 3, 4, 2, 1, 3, 2, 2, 1, 1, \n",
      "1, 1, 3, 0, 0, 1, 0, 1, 1, 0, 0, 3, 1, 0, 3, 2, 2, 0, 1, 1, 1, \n",
      "0, 1, 0, 1, 0, 0, 0, 2, 1, 0, 0, 0, 1, 1, 0, 2, 3, 3, 1, 1, 2, \n",
      "1, 1, 1, 1, 2, 4, 2, 0, 0, 0, 1, 4, 0, 0, 0, 1, 0, 0, 0, 0, 0, \n",
      "1, 0, 0, 1, 0, 1])"
     ],
     "language": "python",
     "metadata": {},
     "outputs": [],
     "prompt_number": 7
    },
    {
     "cell_type": "code",
     "collapsed": false,
     "input": [
      "%lprun -r -f poisson_sampler poisson_sampler(Yn_poisson, cond=cond, max_iter=1, burn_iter=0)"
     ],
     "language": "python",
     "metadata": {},
     "outputs": [
      {
       "output_type": "stream",
       "stream": "stdout",
       "text": [
        "Timer unit: 1e-06 s\n",
        "\n",
        "Total time: 0.019738 s\n",
        "File: changepoint/sampler.py\n",
        "Function: poisson_sampler at line 45\n",
        "\n",
        "Line #      Hits         Time  Per Hit   % Time  Line Contents\n",
        "==============================================================\n",
        "    45                                           def poisson_sampler(Yn, cond, max_iter=6000, burn_iter=1000):\n",
        "    46                                               # Initialize\n",
        "    47         1            2      2.0      0.0      n = 112 ; m = 1\n",
        "    48                                           \n",
        "    49         1          286    286.0      1.4      Sn = init.S(n, m)\n",
        "    50         1          177    177.0      0.9      P = init.P(m + 1)\n",
        "    51         1            3      3.0      0.0      P[0, 0] = 0.9 # Paper's initialization\n",
        "    52         1            7      7.0      0.0      Theta = np.array([2, 2]) # Paper's initialization\n",
        "    53                                           \n",
        "    54                                               # Prior # according to paper\n",
        "    55         1            2      2.0      0.0      a = 8 ; b = 0.1\n",
        "    56                                           \n",
        "    57         1            4      4.0      0.0      F1_mcmc = np.empty((n, m + 1, max_iter))\n",
        "    58         1            3      3.0      0.0      F_mcmc = np.empty((n, m + 1, max_iter))\n",
        "    59         1            3      3.0      0.0      Theta_mcmc = np.empty((m + 1, max_iter))\n",
        "    60                                           \n",
        "    61         1            1      1.0      0.0      i = 0\n",
        "    62         2            3      1.5      0.0      while (i < max_iter):\n",
        "    63                                           \n",
        "    64         1        12320  12320.0     62.4          Sn, F, F1 = cond.S_sampling(Yn, Theta, P, model=\"poisson\")\n",
        "    65         1         5283   5283.0     26.8          Theta = cond.Theta_sampling(Yn, Sn, model=\"poisson\")\n",
        "    66         1         1630   1630.0      8.3          P = cond.P_sampling(Sn, a, b)\n",
        "    67                                           \n",
        "    68         1            8      8.0      0.0          F1_mcmc[:, :, i] = F1\n",
        "    69         1            2      2.0      0.0          F_mcmc[:, :, i] = F\n",
        "    70         1            2      2.0      0.0          Theta_mcmc[:, i] = Theta\n",
        "    71         1            1      1.0      0.0          i += 1\n",
        "    72                                           \n",
        "    73         1            1      1.0      0.0      return Sn, F1_mcmc, F_mcmc, Theta_mcmc, P\n"
       ]
      },
      {
       "metadata": {},
       "output_type": "pyout",
       "prompt_number": 8,
       "text": [
        "<line_profiler.LineProfiler at 0x7f3f7e026530>"
       ]
      }
     ],
     "prompt_number": 8
    },
    {
     "cell_type": "code",
     "collapsed": false,
     "input": [
      "%lprun -r -f poisson_sampler poisson_sampler(Yn_poisson, cond=cond_opt, max_iter=1, burn_iter=0)"
     ],
     "language": "python",
     "metadata": {},
     "outputs": [
      {
       "output_type": "stream",
       "stream": "stdout",
       "text": [
        "Timer unit: 1e-06 s\n",
        "\n",
        "Total time: 0.011796 s\n",
        "File: changepoint/sampler.py\n",
        "Function: poisson_sampler at line 45\n",
        "\n",
        "Line #      Hits         Time  Per Hit   % Time  Line Contents\n",
        "==============================================================\n",
        "    45                                           def poisson_sampler(Yn, cond, max_iter=6000, burn_iter=1000):\n",
        "    46                                               # Initialize\n",
        "    47         1            2      2.0      0.0      n = 112 ; m = 1\n",
        "    48                                           \n",
        "    49         1          224    224.0      1.9      Sn = init.S(n, m)\n",
        "    50         1          106    106.0      0.9      P = init.P(m + 1)\n",
        "    51         1            3      3.0      0.0      P[0, 0] = 0.9 # Paper's initialization\n",
        "    52         1            6      6.0      0.1      Theta = np.array([2, 2]) # Paper's initialization\n",
        "    53                                           \n",
        "    54                                               # Prior # according to paper\n",
        "    55         1            1      1.0      0.0      a = 8 ; b = 0.1\n",
        "    56                                           \n",
        "    57         1            5      5.0      0.0      F1_mcmc = np.empty((n, m + 1, max_iter))\n",
        "    58         1            7      7.0      0.1      F_mcmc = np.empty((n, m + 1, max_iter))\n",
        "    59         1            3      3.0      0.0      Theta_mcmc = np.empty((m + 1, max_iter))\n",
        "    60                                           \n",
        "    61         1            1      1.0      0.0      i = 0\n",
        "    62         2            3      1.5      0.0      while (i < max_iter):\n",
        "    63                                           \n",
        "    64         1         7131   7131.0     60.5          Sn, F, F1 = cond.S_sampling(Yn, Theta, P, model=\"poisson\")\n",
        "    65         1         2025   2025.0     17.2          Theta = cond.Theta_sampling(Yn, Sn, model=\"poisson\")\n",
        "    66         1         2269   2269.0     19.2          P = cond.P_sampling(Sn, a, b)\n",
        "    67                                           \n",
        "    68         1            5      5.0      0.0          F1_mcmc[:, :, i] = F1\n",
        "    69         1            3      3.0      0.0          F_mcmc[:, :, i] = F\n",
        "    70         1            1      1.0      0.0          Theta_mcmc[:, i] = Theta\n",
        "    71         1            1      1.0      0.0          i += 1\n",
        "    72                                           \n",
        "    73         1            0      0.0      0.0      return Sn, F1_mcmc, F_mcmc, Theta_mcmc, P\n"
       ]
      },
      {
       "metadata": {},
       "output_type": "pyout",
       "prompt_number": 10,
       "text": [
        "<line_profiler.LineProfiler at 0x7f3f7e00df58>"
       ]
      }
     ],
     "prompt_number": 10
    },
    {
     "cell_type": "markdown",
     "metadata": {},
     "source": [
      "# MCEM"
     ]
    },
    {
     "cell_type": "code",
     "collapsed": false,
     "input": [
      "Yn_poisson = np.array([4, \n",
      "5, 4, 1, 0, 4, 3, 4, 0, 6, 3, 3, 4, 0, 2, 6, 3, 3, 5, 4, 5, 3, \n",
      "1, 4, 4, 1, 5, 5, 3, 4, 2, 5, 2, 2, 3, 4, 2, 1, 3, 2, 2, 1, 1, \n",
      "1, 1, 3, 0, 0, 1, 0, 1, 1, 0, 0, 3, 1, 0, 3, 2, 2, 0, 1, 1, 1, \n",
      "0, 1, 0, 1, 0, 0, 0, 2, 1, 0, 0, 0, 1, 1, 0, 2, 3, 3, 1, 1, 2, \n",
      "1, 1, 1, 1, 2, 4, 2, 0, 0, 0, 1, 4, 0, 0, 0, 1, 0, 0, 0, 0, 0, \n",
      "1, 0, 0, 1, 0, 1])"
     ],
     "language": "python",
     "metadata": {},
     "outputs": [],
     "prompt_number": 4
    },
    {
     "cell_type": "code",
     "collapsed": false,
     "input": [
      "%lprun -r -f mcem_poisson_sampler Thetas, Ps = mcem_poisson_sampler(Yn_poisson)"
     ],
     "language": "python",
     "metadata": {},
     "outputs": [
      {
       "output_type": "stream",
       "stream": "stdout",
       "text": [
        "Timer unit: 1e-06 s\n",
        "\n",
        "Total time: 63.4606 s\n",
        "File: changepoint/mcem_sampler.py\n",
        "Function: mcem_poisson_sampler at line 40\n",
        "\n",
        "Line #      Hits         Time  Per Hit   % Time  Line Contents\n",
        "==============================================================\n",
        "    40                                           def mcem_poisson_sampler(Yn):\n",
        "    41                                               # Initialize\n",
        "    42         1            2      2.0      0.0      n = 112 ; m = 1\n",
        "    43                                           \n",
        "    44         1          425    425.0      0.0      Sn = init.S(n, m)\n",
        "    45         1          109    109.0      0.0      P = init.P(m + 1)\n",
        "    46         1            3      3.0      0.0      P[0, 0] = 0.9 # Paper's initialization\n",
        "    47         1            7      7.0      0.0      Theta = np.array([2, 2]) # Paper's initialization\n",
        "    48                                           \n",
        "    49                                               # 100 MCEM steps\n",
        "    50         1           44     44.0      0.0      Ns = np.linspace(1, 300, 10).astype(np.int64) # increasing N\n",
        "    51         1            5      5.0      0.0      Thetas = np.zeros((m + 1, 100))\n",
        "    52         1            4      4.0      0.0      Ps = np.zeros((m + 1, m + 1, 100))\n",
        "    53                                           \n",
        "    54       101          103      1.0      0.0      for i in range(100):\n",
        "    55       100          131      1.3      0.0          N = Ns[i / 10]\n",
        "    56                                                   # E-step\n",
        "    57       100     62875766 628757.7     99.1          Sns = mcem.S_estep(N, Yn, Theta, P, model=\"poisson\")\n",
        "    58                                                   # M-step\n",
        "    59       100       466148   4661.5      0.7          Theta = mcem.Theta_mstep(Yn, Sns, model=\"poisson\")\n",
        "    60       100       117421   1174.2      0.2          P = mcem.P_mstep(Sns)\n",
        "    61                                                   # Store values to see if they converge\n",
        "    62       100          237      2.4      0.0          Thetas[:, i] = Theta\n",
        "    63       100          245      2.5      0.0          Ps[:, :, i] = P\n",
        "    64                                           \n",
        "    65         1            0      0.0      0.0      return Thetas, Ps\n"
       ]
      },
      {
       "metadata": {},
       "output_type": "pyout",
       "prompt_number": 6,
       "text": [
        "<line_profiler.LineProfiler at 0x7f9c5fead258>"
       ]
      }
     ],
     "prompt_number": 6
    },
    {
     "cell_type": "code",
     "collapsed": false,
     "input": [],
     "language": "python",
     "metadata": {},
     "outputs": []
    }
   ],
   "metadata": {}
  }
 ]
}
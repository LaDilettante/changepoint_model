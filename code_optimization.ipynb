{
 "metadata": {
  "name": "",
  "signature": "sha256:ab99666a98e448ff443ecb01c5e6ba9355e5bdd8e871edfe5c330f79bc502823"
 },
 "nbformat": 3,
 "nbformat_minor": 0,
 "worksheets": [
  {
   "cells": [
    {
     "cell_type": "code",
     "collapsed": false,
     "input": [
      "from changepoint.sampler import *\n",
      "from changepoint.mcem_sampler import *\n",
      "import matplotlib.pyplot as plt\n",
      "from __future__ import print_function\n",
      "from IPython.core import page\n",
      "page.page = print # print instead of opening pager\n",
      "%matplotlib inline\n",
      "%load_ext line_profiler\n",
      "%load_ext autoreload\n",
      "%autoreload 2"
     ],
     "language": "python",
     "metadata": {},
     "outputs": [],
     "prompt_number": 3
    },
    {
     "cell_type": "code",
     "collapsed": false,
     "input": [
      "np.random.seed(2103)\n",
      "Yn = binary_true_data()"
     ],
     "language": "python",
     "metadata": {},
     "outputs": [],
     "prompt_number": 33
    },
    {
     "cell_type": "code",
     "collapsed": false,
     "input": [
      "%lprun -r -f binary_sampler binary_sampler(Yn, max_iter=1, burn_iter=0)"
     ],
     "language": "python",
     "metadata": {},
     "outputs": [
      {
       "output_type": "stream",
       "stream": "stdout",
       "text": [
        "Timer unit: 1e-06 s\n",
        "\n",
        "Total time: 0.068434 s\n",
        "File: changepoint/sampler.py\n",
        "Function: binary_sampler at line 16\n",
        "\n",
        "Line #      Hits         Time  Per Hit   % Time  Line Contents\n",
        "==============================================================\n",
        "    16                                           def binary_sampler(Yn, max_iter=6000, burn_iter=1000, cond=cond):\n",
        "    17                                               # Initialize\n",
        "    18         1            2      2.0      0.0      n = 150 ; m = 2\n",
        "    19         1          257    257.0      0.4      Sn = init.S(n, m)\n",
        "    20         1           90     90.0      0.1      P = init.P(m + 1)\n",
        "    21         1            5      5.0      0.0      Theta = np.array([0.5, 0.5, 0.5])\n",
        "    22                                               # Prior\n",
        "    23         1            1      1.0      0.0      a = 8 ; b = 0.1\n",
        "    24                                           \n",
        "    25         1            4      4.0      0.0      F1_mcmc = np.empty((n, m + 1, max_iter))\n",
        "    26         1            3      3.0      0.0      F_mcmc = np.empty((n, m + 1, max_iter))\n",
        "    27         1            2      2.0      0.0      Theta_mcmc = np.empty((m + 1, max_iter))\n",
        "    28                                           \n",
        "    29         1            1      1.0      0.0      i = 0\n",
        "    30         2            3      1.5      0.0      while (i < max_iter):\n",
        "    31                                           \n",
        "    32         1        59368  59368.0     86.8          Sn, F, F1 = cond.S_sampling(Yn, Theta, P, model=\"binary\")\n",
        "    33         1         5523   5523.0      8.1          Theta = cond.Theta_sampling(Yn, Sn, model=\"binary\")\n",
        "    34         1         3162   3162.0      4.6          P = cond.P_sampling(Sn, a, b)\n",
        "    35                                           \n",
        "    36         1            6      6.0      0.0          F1_mcmc[:, :, i] = F1\n",
        "    37         1            3      3.0      0.0          F_mcmc[:, :, i] = F\n",
        "    38         1            2      2.0      0.0          Theta_mcmc[:, i] = Theta\n",
        "    39         1            1      1.0      0.0          i += 1\n",
        "    40                                           \n",
        "    41         1            1      1.0      0.0      return Sn, F1_mcmc, F_mcmc, Theta_mcmc, P\n"
       ]
      },
      {
       "metadata": {},
       "output_type": "pyout",
       "prompt_number": 115,
       "text": [
        "<line_profiler.LineProfiler at 0x7fa79e93aa78>"
       ]
      }
     ],
     "prompt_number": 115
    },
    {
     "cell_type": "code",
     "collapsed": false,
     "input": [
      "%lprun -r -f binary_sampler binary_sampler(Yn, max_iter=1, burn_iter=0, cond=cond_opt)"
     ],
     "language": "python",
     "metadata": {},
     "outputs": [
      {
       "output_type": "stream",
       "stream": "stdout",
       "text": [
        "Timer unit: 1e-06 s\n",
        "\n",
        "Total time: 0.070245 s\n",
        "File: changepoint/sampler.py\n",
        "Function: binary_sampler at line 16\n",
        "\n",
        "Line #      Hits         Time  Per Hit   % Time  Line Contents\n",
        "==============================================================\n",
        "    16                                           def binary_sampler(Yn, max_iter=6000, burn_iter=1000, cond=cond):\n",
        "    17                                               # Initialize\n",
        "    18         1            2      2.0      0.0      n = 150 ; m = 2\n",
        "    19         1          249    249.0      0.4      Sn = init.S(n, m)\n",
        "    20         1           90     90.0      0.1      P = init.P(m + 1)\n",
        "    21         1            6      6.0      0.0      Theta = np.array([0.5, 0.5, 0.5])\n",
        "    22                                               # Prior\n",
        "    23         1            1      1.0      0.0      a = 8 ; b = 0.1\n",
        "    24                                           \n",
        "    25         1            4      4.0      0.0      F1_mcmc = np.empty((n, m + 1, max_iter))\n",
        "    26         1            2      2.0      0.0      F_mcmc = np.empty((n, m + 1, max_iter))\n",
        "    27         1            2      2.0      0.0      Theta_mcmc = np.empty((m + 1, max_iter))\n",
        "    28                                           \n",
        "    29         1            1      1.0      0.0      i = 0\n",
        "    30         2            3      1.5      0.0      while (i < max_iter):\n",
        "    31                                           \n",
        "    32         1        66877  66877.0     95.2          Sn, F, F1 = cond.S_sampling(Yn, Theta, P, model=\"binary\")\n",
        "    33         1         1569   1569.0      2.2          Theta = cond.Theta_sampling(Yn, Sn, model=\"binary\")\n",
        "    34         1         1429   1429.0      2.0          P = cond.P_sampling(Sn, a, b)\n",
        "    35                                           \n",
        "    36         1            4      4.0      0.0          F1_mcmc[:, :, i] = F1\n",
        "    37         1            2      2.0      0.0          F_mcmc[:, :, i] = F\n",
        "    38         1            2      2.0      0.0          Theta_mcmc[:, i] = Theta\n",
        "    39         1            1      1.0      0.0          i += 1\n",
        "    40                                           \n",
        "    41         1            1      1.0      0.0      return Sn, F1_mcmc, F_mcmc, Theta_mcmc, P\n"
       ]
      },
      {
       "metadata": {},
       "output_type": "pyout",
       "prompt_number": 117,
       "text": [
        "<line_profiler.LineProfiler at 0x7fa79e93af58>"
       ]
      }
     ],
     "prompt_number": 117
    },
    {
     "cell_type": "markdown",
     "metadata": {},
     "source": [
      "# MCEM"
     ]
    },
    {
     "cell_type": "code",
     "collapsed": false,
     "input": [
      "Yn_poisson = np.array([4, \n",
      "5, 4, 1, 0, 4, 3, 4, 0, 6, 3, 3, 4, 0, 2, 6, 3, 3, 5, 4, 5, 3, \n",
      "1, 4, 4, 1, 5, 5, 3, 4, 2, 5, 2, 2, 3, 4, 2, 1, 3, 2, 2, 1, 1, \n",
      "1, 1, 3, 0, 0, 1, 0, 1, 1, 0, 0, 3, 1, 0, 3, 2, 2, 0, 1, 1, 1, \n",
      "0, 1, 0, 1, 0, 0, 0, 2, 1, 0, 0, 0, 1, 1, 0, 2, 3, 3, 1, 1, 2, \n",
      "1, 1, 1, 1, 2, 4, 2, 0, 0, 0, 1, 4, 0, 0, 0, 1, 0, 0, 0, 0, 0, \n",
      "1, 0, 0, 1, 0, 1])"
     ],
     "language": "python",
     "metadata": {},
     "outputs": [],
     "prompt_number": 4
    },
    {
     "cell_type": "code",
     "collapsed": false,
     "input": [
      "%lprun -r -f mcem_poisson_sampler Thetas, Ps = mcem_poisson_sampler(Yn_poisson)"
     ],
     "language": "python",
     "metadata": {},
     "outputs": [
      {
       "output_type": "stream",
       "stream": "stdout",
       "text": [
        "Timer unit: 1e-06 s\n",
        "\n",
        "Total time: 63.4606 s\n",
        "File: changepoint/mcem_sampler.py\n",
        "Function: mcem_poisson_sampler at line 40\n",
        "\n",
        "Line #      Hits         Time  Per Hit   % Time  Line Contents\n",
        "==============================================================\n",
        "    40                                           def mcem_poisson_sampler(Yn):\n",
        "    41                                               # Initialize\n",
        "    42         1            2      2.0      0.0      n = 112 ; m = 1\n",
        "    43                                           \n",
        "    44         1          425    425.0      0.0      Sn = init.S(n, m)\n",
        "    45         1          109    109.0      0.0      P = init.P(m + 1)\n",
        "    46         1            3      3.0      0.0      P[0, 0] = 0.9 # Paper's initialization\n",
        "    47         1            7      7.0      0.0      Theta = np.array([2, 2]) # Paper's initialization\n",
        "    48                                           \n",
        "    49                                               # 100 MCEM steps\n",
        "    50         1           44     44.0      0.0      Ns = np.linspace(1, 300, 10).astype(np.int64) # increasing N\n",
        "    51         1            5      5.0      0.0      Thetas = np.zeros((m + 1, 100))\n",
        "    52         1            4      4.0      0.0      Ps = np.zeros((m + 1, m + 1, 100))\n",
        "    53                                           \n",
        "    54       101          103      1.0      0.0      for i in range(100):\n",
        "    55       100          131      1.3      0.0          N = Ns[i / 10]\n",
        "    56                                                   # E-step\n",
        "    57       100     62875766 628757.7     99.1          Sns = mcem.S_estep(N, Yn, Theta, P, model=\"poisson\")\n",
        "    58                                                   # M-step\n",
        "    59       100       466148   4661.5      0.7          Theta = mcem.Theta_mstep(Yn, Sns, model=\"poisson\")\n",
        "    60       100       117421   1174.2      0.2          P = mcem.P_mstep(Sns)\n",
        "    61                                                   # Store values to see if they converge\n",
        "    62       100          237      2.4      0.0          Thetas[:, i] = Theta\n",
        "    63       100          245      2.5      0.0          Ps[:, :, i] = P\n",
        "    64                                           \n",
        "    65         1            0      0.0      0.0      return Thetas, Ps\n"
       ]
      },
      {
       "metadata": {},
       "output_type": "pyout",
       "prompt_number": 6,
       "text": [
        "<line_profiler.LineProfiler at 0x7f9c5fead258>"
       ]
      }
     ],
     "prompt_number": 6
    },
    {
     "cell_type": "code",
     "collapsed": false,
     "input": [],
     "language": "python",
     "metadata": {},
     "outputs": []
    }
   ],
   "metadata": {}
  }
 ]
}
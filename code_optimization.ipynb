{
 "metadata": {
  "name": "",
  "signature": "sha256:58b96d0f6aa97f963ea433a4dd93317bead83c51dc2a7ddbdfde1e405a46179f"
 },
 "nbformat": 3,
 "nbformat_minor": 0,
 "worksheets": [
  {
   "cells": [
    {
     "cell_type": "code",
     "collapsed": false,
     "input": [
      "from changepoint.sampler import *\n",
      "from changepoint.mcem_sampler import *\n",
      "import changepoint.init_functions as init\n",
      "import matplotlib.pyplot as plt\n",
      "from __future__ import print_function\n",
      "from IPython.core import page\n",
      "page.page = print # print instead of opening pager\n",
      "%matplotlib inline\n",
      "%load_ext line_profiler\n",
      "%load_ext autoreload\n",
      "%autoreload 2"
     ],
     "language": "python",
     "metadata": {},
     "outputs": [
      {
       "output_type": "stream",
       "stream": "stdout",
       "text": [
        "The line_profiler extension is already loaded. To reload it, use:\n",
        "  %reload_ext line_profiler\n",
        "The autoreload extension is already loaded. To reload it, use:\n",
        "  %reload_ext autoreload\n"
       ]
      }
     ],
     "prompt_number": 2
    },
    {
     "cell_type": "code",
     "collapsed": false,
     "input": [
      "Yn_poisson = init.poisson_data()"
     ],
     "language": "python",
     "metadata": {},
     "outputs": [],
     "prompt_number": 10
    },
    {
     "cell_type": "code",
     "collapsed": false,
     "input": [
      "%lprun -f cond.Theta_sampling sampler(Yn_poisson, model=\"poisson\", m=1, cond=cond, max_iter=100, burn_iter=0)"
     ],
     "language": "python",
     "metadata": {},
     "outputs": [
      {
       "output_type": "stream",
       "stream": "stdout",
       "text": [
        "Timer unit: 1e-06 s\n",
        "\n",
        "Total time: 0.318176 s\n",
        "File: changepoint/full_conditionals.py\n",
        "Function: Theta_sampling at line 33\n",
        "\n",
        "Line #      Hits         Time  Per Hit   % Time  Line Contents\n",
        "==============================================================\n",
        "    33                                           def Theta_sampling(Yn, Sn, model):\n",
        "    34                                               '''\n",
        "    35                                               Sample Theta from its full conditional distribution\n",
        "    36                                           \n",
        "    37                                               Args:\n",
        "    38                                                   Yn: n x 1 data vector\n",
        "    39                                                   Sn: n x 1 latent state vector\n",
        "    40                                               \n",
        "    41                                               Returns:\n",
        "    42                                                   a (m + 1) x 1 vector of parameter, one param for each regime\n",
        "    43                                               '''\n",
        "    44       100         2840     28.4      0.9      number_of_regimes = len(np.unique(Sn))\n",
        "    45       100          328      3.3      0.1      thetas = np.empty(number_of_regimes)\n",
        "    46                                               \n",
        "    47       300          476      1.6      0.1      for k in range(1, number_of_regimes + 1):\n",
        "    48       200       314488   1572.4     98.8          thetas[k - 1] = Theta_conditional(k, Yn, Sn, model=model).rvs()\n",
        "    49       100           44      0.4      0.0      return thetas\n"
       ]
      }
     ],
     "prompt_number": 18
    },
    {
     "cell_type": "code",
     "collapsed": false,
     "input": [
      "%lprun -r -f cond_opt.Theta_sampling sampler(Yn_poisson, model=\"poisson\", m=1, cond=cond_opt, max_iter=100, burn_iter=0)"
     ],
     "language": "python",
     "metadata": {},
     "outputs": [
      {
       "output_type": "stream",
       "stream": "stdout",
       "text": [
        "Timer unit: 1e-06 s\n",
        "\n",
        "Total time: 0.309771 s\n",
        "File: changepoint/full_conditionals_opt.py\n",
        "Function: Theta_sampling at line 8\n",
        "\n",
        "Line #      Hits         Time  Per Hit   % Time  Line Contents\n",
        "==============================================================\n",
        "     8                                           def Theta_sampling(Yn, Sn, model):\n",
        "     9                                               '''\n",
        "    10                                               Sample Theta from its full conditional distribution\n",
        "    11                                           \n",
        "    12                                               Args:\n",
        "    13                                                   Yn: n x 1 data vector\n",
        "    14                                                   Sn: n x 1 latent state vector\n",
        "    15                                               \n",
        "    16                                               Returns:\n",
        "    17                                                   a (m + 1) x 1 vector of parameter, one param for each regime\n",
        "    18                                               '''\n",
        "    19       100         2777     27.8      0.9      number_of_regimes = len(np.unique(Sn))\n",
        "    20                                           \n",
        "    21       100          283      2.8      0.1      k = np.arange(1, number_of_regimes + 1)\n",
        "    22       100          119      1.2      0.0      f = lambda k: Theta_conditional(k, Yn, Sn, model).rvs() # Lambda function for a single k\n",
        "    23       100          264      2.6      0.1      f_array = np.frompyfunc(f, 1, 1) # Vectorize the function for an array of k's\n",
        "    24       100       306203   3062.0     98.8      Theta = f_array(k)\n",
        "    25                                               \n",
        "    26       100          125      1.2      0.0      return Theta\n"
       ]
      },
      {
       "metadata": {},
       "output_type": "pyout",
       "prompt_number": 19,
       "text": [
        "<line_profiler.LineProfiler at 0x7f8f95c98ae0>"
       ]
      }
     ],
     "prompt_number": 19
    },
    {
     "cell_type": "markdown",
     "metadata": {},
     "source": [
      "# MCEM"
     ]
    },
    {
     "cell_type": "code",
     "collapsed": false,
     "input": [
      "Yn_poisson = np.array([4, \n",
      "5, 4, 1, 0, 4, 3, 4, 0, 6, 3, 3, 4, 0, 2, 6, 3, 3, 5, 4, 5, 3, \n",
      "1, 4, 4, 1, 5, 5, 3, 4, 2, 5, 2, 2, 3, 4, 2, 1, 3, 2, 2, 1, 1, \n",
      "1, 1, 3, 0, 0, 1, 0, 1, 1, 0, 0, 3, 1, 0, 3, 2, 2, 0, 1, 1, 1, \n",
      "0, 1, 0, 1, 0, 0, 0, 2, 1, 0, 0, 0, 1, 1, 0, 2, 3, 3, 1, 1, 2, \n",
      "1, 1, 1, 1, 2, 4, 2, 0, 0, 0, 1, 4, 0, 0, 0, 1, 0, 0, 0, 0, 0, \n",
      "1, 0, 0, 1, 0, 1])"
     ],
     "language": "python",
     "metadata": {},
     "outputs": [],
     "prompt_number": 4
    },
    {
     "cell_type": "code",
     "collapsed": false,
     "input": [
      "%lprun -r -f mcem_poisson_sampler Thetas, Ps = mcem_poisson_sampler(Yn_poisson)"
     ],
     "language": "python",
     "metadata": {},
     "outputs": [
      {
       "output_type": "stream",
       "stream": "stdout",
       "text": [
        "Timer unit: 1e-06 s\n",
        "\n",
        "Total time: 63.4606 s\n",
        "File: changepoint/mcem_sampler.py\n",
        "Function: mcem_poisson_sampler at line 40\n",
        "\n",
        "Line #      Hits         Time  Per Hit   % Time  Line Contents\n",
        "==============================================================\n",
        "    40                                           def mcem_poisson_sampler(Yn):\n",
        "    41                                               # Initialize\n",
        "    42         1            2      2.0      0.0      n = 112 ; m = 1\n",
        "    43                                           \n",
        "    44         1          425    425.0      0.0      Sn = init.S(n, m)\n",
        "    45         1          109    109.0      0.0      P = init.P(m + 1)\n",
        "    46         1            3      3.0      0.0      P[0, 0] = 0.9 # Paper's initialization\n",
        "    47         1            7      7.0      0.0      Theta = np.array([2, 2]) # Paper's initialization\n",
        "    48                                           \n",
        "    49                                               # 100 MCEM steps\n",
        "    50         1           44     44.0      0.0      Ns = np.linspace(1, 300, 10).astype(np.int64) # increasing N\n",
        "    51         1            5      5.0      0.0      Thetas = np.zeros((m + 1, 100))\n",
        "    52         1            4      4.0      0.0      Ps = np.zeros((m + 1, m + 1, 100))\n",
        "    53                                           \n",
        "    54       101          103      1.0      0.0      for i in range(100):\n",
        "    55       100          131      1.3      0.0          N = Ns[i / 10]\n",
        "    56                                                   # E-step\n",
        "    57       100     62875766 628757.7     99.1          Sns = mcem.S_estep(N, Yn, Theta, P, model=\"poisson\")\n",
        "    58                                                   # M-step\n",
        "    59       100       466148   4661.5      0.7          Theta = mcem.Theta_mstep(Yn, Sns, model=\"poisson\")\n",
        "    60       100       117421   1174.2      0.2          P = mcem.P_mstep(Sns)\n",
        "    61                                                   # Store values to see if they converge\n",
        "    62       100          237      2.4      0.0          Thetas[:, i] = Theta\n",
        "    63       100          245      2.5      0.0          Ps[:, :, i] = P\n",
        "    64                                           \n",
        "    65         1            0      0.0      0.0      return Thetas, Ps\n"
       ]
      },
      {
       "metadata": {},
       "output_type": "pyout",
       "prompt_number": 6,
       "text": [
        "<line_profiler.LineProfiler at 0x7f9c5fead258>"
       ]
      }
     ],
     "prompt_number": 6
    },
    {
     "cell_type": "code",
     "collapsed": false,
     "input": [],
     "language": "python",
     "metadata": {},
     "outputs": []
    }
   ],
   "metadata": {}
  }
 ]
}
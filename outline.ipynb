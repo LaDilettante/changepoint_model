{
 "metadata": {
  "name": "",
  "signature": "sha256:0a6dd457fdb935d8a8a52c51d463832a613c16cb2912838ec7e845a40f0635db"
 },
 "nbformat": 3,
 "nbformat_minor": 0,
 "worksheets": [
  {
   "cells": [
    {
     "cell_type": "markdown",
     "metadata": {},
     "source": [
      "# Paper choice\n",
      "\n",
      "Estimation and comparison of multiple change-point models. Chib (1998)"
     ]
    },
    {
     "cell_type": "markdown",
     "metadata": {},
     "source": [
      "# Outline\n",
      "\n",
      "The change point literature before this paper has the weakness of modeling the probability of change at each time point as constant (Chernoff and Zacks 1964). The main contribution of this paper is to fit models in which the change-point probability is not a constant but depends on the regime.\n",
      "\n",
      "The paper accomplishes this by augmenting the data with a discrete random variable $s_t$ in each time period to denote the state of the system at time $t$. Then, the paper estimates the posterior $\\pi(S_n, \\Theta, P \\mid Y_n)$ by using MCMC with full conditionals:\n",
      "- $\\Theta, P \\mid Y_n, S_n$\n",
      "- $S_n \\mid Y_n, \\Theta, P$"
     ]
    }
   ],
   "metadata": {}
  }
 ]
}
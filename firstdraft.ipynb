{
 "metadata": {
  "name": "",
  "signature": "sha256:318d4de7887dc8baf892d01b6360ae6eb58b3ffd21634329dfc49722b962b500"
 },
 "nbformat": 3,
 "nbformat_minor": 0,
 "worksheets": [
  {
   "cells": [
    {
     "cell_type": "code",
     "collapsed": false,
     "input": [
      "import numpy as np\n",
      "import scipy as sp\n",
      "import scipy.stats as st\n",
      "import matplotlib.pyplot as plt\n",
      "from changepoint import init_functions as init\n",
      "from changepoint import full_conditionals as cond\n",
      "%matplotlib inline\n",
      "%load_ext autoreload\n",
      "%autoreload 2"
     ],
     "language": "python",
     "metadata": {},
     "outputs": [
      {
       "output_type": "stream",
       "stream": "stdout",
       "text": [
        "The autoreload extension is already loaded. To reload it, use:\n",
        "  %reload_ext autoreload\n"
       ]
      }
     ],
     "prompt_number": 227
    },
    {
     "cell_type": "code",
     "collapsed": false,
     "input": [
      "thetas = np.array([0.5, 0.75, 0.25])\n",
      "ns = np.array([50, 50, 50])\n",
      "\n",
      "np.random.seed(2103)\n",
      "Yn = np.array([st.bernoulli.rvs(theta_, size=n_) for theta_, n_ in zip(thetas, ns)]) \\\n",
      "    .ravel()"
     ],
     "language": "python",
     "metadata": {},
     "outputs": [],
     "prompt_number": 228
    },
    {
     "cell_type": "code",
     "collapsed": false,
     "input": [
      "plt.plot(np.cumsum(Yn))"
     ],
     "language": "python",
     "metadata": {},
     "outputs": [
      {
       "metadata": {},
       "output_type": "pyout",
       "prompt_number": 229,
       "text": [
        "[<matplotlib.lines.Line2D at 0x7fcf7dfb7b10>]"
       ]
      },
      {
       "metadata": {},
       "output_type": "display_data",
       "png": "[encoded data removed]",
       "text": [
        "<matplotlib.figure.Figure at 0x7fcf7e08ce90>"
       ]
      }
     ],
     "prompt_number": 229
    },
    {
     "cell_type": "code",
     "collapsed": false,
     "input": [
      "Sn = init.S(150, 2)\n",
      "P = init.P(3)"
     ],
     "language": "python",
     "metadata": {},
     "outputs": [],
     "prompt_number": 230
    },
    {
     "cell_type": "code",
     "collapsed": false,
     "input": [
      "Theta = cond.Theta_sampling(Yn, Sn)"
     ],
     "language": "python",
     "metadata": {},
     "outputs": [],
     "prompt_number": 264
    },
    {
     "cell_type": "code",
     "collapsed": false,
     "input": [
      "cond.S_conditional(Yn, Theta, P)"
     ],
     "language": "python",
     "metadata": {},
     "outputs": [
      {
       "metadata": {},
       "output_type": "pyout",
       "prompt_number": 265,
       "text": [
        "array([[  0.00000000e+000,   6.94310417e-310,   3.23628334e-316],\n",
        "       [ -3.64050586e-310,  -3.16921298e-310,  -5.56496621e-317],\n",
        "       [  3.57056739e-310,   1.44660195e-310,   9.56926600e-318],\n",
        "       [ -1.08221566e-310,  -3.71115925e-311,  -1.76578370e-317],\n",
        "       [  3.13487167e-311,   9.52073146e-312,   3.25834021e-317],\n",
        "       [ -2.14292428e-311,  -4.34579609e-312,  -5.60289217e-318],\n",
        "       [  5.55973875e-312,   1.11488590e-312,   1.03388226e-317],\n",
        "       [ -3.49973291e-312,  -5.08899462e-313,  -1.77781618e-318],\n",
        "       [  8.64671777e-313,   1.30555156e-313,   3.28054154e-318],\n",
        "       [ -2.14672876e-313,  -3.34938798e-314,  -6.05347016e-318],\n",
        "       [  5.35301745e-314,   8.59418027e-315,   1.11702610e-317],\n",
        "       [ -3.25739139e-314,  -3.92795142e-315,  -1.92078889e-318],\n",
        "       [  7.87354136e-315,   1.00818202e-315,   3.54436766e-318],\n",
        "       [ -1.91580939e-315,  -2.59551532e-316,  -6.54030268e-318],\n",
        "       [  4.69230656e-316,   6.82640523e-317,   1.20685959e-317],\n",
        "       [ -1.15938917e-316,  -2.06087972e-317,  -2.22697669e-317],\n",
        "       [  7.15966189e-317,   1.95721191e-317,   3.82940895e-318],\n",
        "       [ -4.78028670e-317,  -1.06817289e-317,  -6.58485752e-319],\n",
        "       [  3.06654639e-317,   5.17629613e-318,   1.13229965e-319],\n",
        "       [ -7.73115405e-318,  -1.35699082e-318,  -2.08940362e-319],\n",
        "       [  1.96033391e-318,   4.01729717e-319,   3.85549067e-319],\n",
        "       [ -5.09505197e-319,  -2.01974036e-319,  -7.11439708e-319],\n",
        "       [  3.73049207e-319,   4.16927177e-319,   1.22335595e-319],\n",
        "       [ -1.70403241e-319,  -1.38343321e-319,  -2.25743534e-319],\n",
        "       [  1.61885550e-319,   1.66188861e-319,   3.88187378e-320],\n",
        "       [ -7.07650225e-320,  -5.25883473e-320,  -7.16296373e-320],\n",
        "       [  6.46830744e-320,   5.66989735e-320,   1.23170566e-320],\n",
        "       [ -2.61805386e-320,  -1.77023721e-320,  -2.27270197e-320],\n",
        "       [  9.46629777e-321,   1.03753786e-320,   4.19362920e-320],\n",
        "       [ -1.04050225e-320,  -2.38781927e-320,  -7.21335843e-321],\n",
        "       [  1.79741082e-320,   1.41895653e-320,   1.24010477e-321],\n",
        "       [ -6.93668167e-321,  -3.95746582e-321,  -2.28752394e-321],\n",
        "       [  2.34681182e-321,   1.60077269e-321,   4.21932062e-321],\n",
        "       [ -2.07013506e-321,  -2.65807317e-321,  -7.26276499e-322],\n",
        "       [  2.48020954e-321,   1.54642547e-321,   1.23516411e-322],\n",
        "       [ -8.69555537e-322,  -4.24896455e-322,  -2.27270197e-322],\n",
        "       [  2.81617418e-322,   1.67982320e-322,   4.19955799e-322],\n",
        "       [ -9.38724727e-323,  -1.48219694e-322,  -7.75683064e-322],\n",
        "       [  1.28457068e-322,   4.19955799e-322,   1.33397724e-322],\n",
        "       [ -1.18575755e-322,  -1.43279037e-322,  -2.47032823e-322],\n",
        "       [  5.43472210e-323,   9.88131292e-323,   4.54540394e-322],\n",
        "       [ -8.39911598e-323,  -2.51973479e-322,  -7.90505033e-323],\n",
        "       [  1.77863633e-322,   1.53160350e-322,   1.48219694e-323],\n",
        "       [ -7.41098469e-323,  -4.44659081e-323,  -2.96439388e-323],\n",
        "       [  6.42285340e-323,   2.96439388e-323,   4.94065646e-324],\n",
        "       [ -4.44659081e-323,  -1.48219694e-323,  -0.00000000e+000],\n",
        "       [  1.48219694e-323,   4.94065646e-324,   0.00000000e+000],\n",
        "       [ -9.88131292e-324,  -0.00000000e+000,  -0.00000000e+000],\n",
        "       [  0.00000000e+000,   0.00000000e+000,   0.00000000e+000],\n",
        "       [ -0.00000000e+000,  -0.00000000e+000,  -0.00000000e+000],\n",
        "       [  0.00000000e+000,   0.00000000e+000,   0.00000000e+000],\n",
        "       [ -0.00000000e+000,  -0.00000000e+000,  -0.00000000e+000],\n",
        "       [  0.00000000e+000,   0.00000000e+000,   0.00000000e+000],\n",
        "       [ -0.00000000e+000,  -0.00000000e+000,  -0.00000000e+000],\n",
        "       [  0.00000000e+000,   0.00000000e+000,   0.00000000e+000],\n",
        "       [ -0.00000000e+000,  -0.00000000e+000,  -0.00000000e+000],\n",
        "       [  0.00000000e+000,   0.00000000e+000,   0.00000000e+000],\n",
        "       [ -0.00000000e+000,  -0.00000000e+000,  -0.00000000e+000],\n",
        "       [  0.00000000e+000,   0.00000000e+000,   0.00000000e+000],\n",
        "       [ -0.00000000e+000,  -0.00000000e+000,  -0.00000000e+000],\n",
        "       [  0.00000000e+000,   0.00000000e+000,   0.00000000e+000],\n",
        "       [ -0.00000000e+000,  -0.00000000e+000,  -0.00000000e+000],\n",
        "       [  0.00000000e+000,   0.00000000e+000,   0.00000000e+000],\n",
        "       [ -0.00000000e+000,  -0.00000000e+000,  -0.00000000e+000],\n",
        "       [  0.00000000e+000,   0.00000000e+000,   0.00000000e+000],\n",
        "       [ -0.00000000e+000,  -0.00000000e+000,  -0.00000000e+000],\n",
        "       [  0.00000000e+000,   0.00000000e+000,   0.00000000e+000],\n",
        "       [ -0.00000000e+000,  -0.00000000e+000,  -0.00000000e+000],\n",
        "       [  0.00000000e+000,   0.00000000e+000,   0.00000000e+000],\n",
        "       [ -0.00000000e+000,  -0.00000000e+000,  -0.00000000e+000],\n",
        "       [  0.00000000e+000,   0.00000000e+000,   0.00000000e+000],\n",
        "       [ -0.00000000e+000,  -0.00000000e+000,  -0.00000000e+000],\n",
        "       [  0.00000000e+000,   0.00000000e+000,   0.00000000e+000],\n",
        "       [ -0.00000000e+000,  -0.00000000e+000,  -0.00000000e+000],\n",
        "       [  0.00000000e+000,   0.00000000e+000,   0.00000000e+000],\n",
        "       [ -0.00000000e+000,  -0.00000000e+000,  -0.00000000e+000],\n",
        "       [  0.00000000e+000,   0.00000000e+000,   0.00000000e+000],\n",
        "       [ -0.00000000e+000,  -0.00000000e+000,  -0.00000000e+000],\n",
        "       [  0.00000000e+000,   0.00000000e+000,   0.00000000e+000],\n",
        "       [ -0.00000000e+000,  -0.00000000e+000,  -0.00000000e+000],\n",
        "       [  0.00000000e+000,   0.00000000e+000,   0.00000000e+000],\n",
        "       [ -0.00000000e+000,  -0.00000000e+000,  -0.00000000e+000],\n",
        "       [  0.00000000e+000,   0.00000000e+000,   0.00000000e+000],\n",
        "       [ -0.00000000e+000,  -0.00000000e+000,  -0.00000000e+000],\n",
        "       [  0.00000000e+000,   0.00000000e+000,   0.00000000e+000],\n",
        "       [ -0.00000000e+000,  -0.00000000e+000,  -0.00000000e+000],\n",
        "       [  0.00000000e+000,   0.00000000e+000,   0.00000000e+000],\n",
        "       [ -0.00000000e+000,  -0.00000000e+000,  -0.00000000e+000],\n",
        "       [  0.00000000e+000,   0.00000000e+000,   0.00000000e+000],\n",
        "       [ -0.00000000e+000,  -0.00000000e+000,  -0.00000000e+000],\n",
        "       [  0.00000000e+000,   0.00000000e+000,   0.00000000e+000],\n",
        "       [ -0.00000000e+000,  -0.00000000e+000,  -0.00000000e+000],\n",
        "       [  0.00000000e+000,   0.00000000e+000,   0.00000000e+000],\n",
        "       [ -0.00000000e+000,  -0.00000000e+000,  -0.00000000e+000],\n",
        "       [  0.00000000e+000,   0.00000000e+000,   0.00000000e+000],\n",
        "       [ -0.00000000e+000,  -0.00000000e+000,  -0.00000000e+000],\n",
        "       [  0.00000000e+000,   0.00000000e+000,   0.00000000e+000],\n",
        "       [ -0.00000000e+000,  -0.00000000e+000,  -0.00000000e+000],\n",
        "       [  0.00000000e+000,   0.00000000e+000,   0.00000000e+000],\n",
        "       [ -0.00000000e+000,  -0.00000000e+000,  -0.00000000e+000],\n",
        "       [  0.00000000e+000,   0.00000000e+000,   0.00000000e+000],\n",
        "       [ -0.00000000e+000,  -0.00000000e+000,  -0.00000000e+000],\n",
        "       [  0.00000000e+000,   0.00000000e+000,   0.00000000e+000],\n",
        "       [ -0.00000000e+000,  -0.00000000e+000,  -0.00000000e+000],\n",
        "       [  0.00000000e+000,   0.00000000e+000,   0.00000000e+000],\n",
        "       [ -0.00000000e+000,  -0.00000000e+000,  -0.00000000e+000],\n",
        "       [  0.00000000e+000,   0.00000000e+000,   0.00000000e+000],\n",
        "       [ -0.00000000e+000,  -0.00000000e+000,  -0.00000000e+000],\n",
        "       [  0.00000000e+000,   0.00000000e+000,   0.00000000e+000],\n",
        "       [ -0.00000000e+000,  -0.00000000e+000,  -0.00000000e+000],\n",
        "       [  0.00000000e+000,   0.00000000e+000,   0.00000000e+000],\n",
        "       [ -0.00000000e+000,  -0.00000000e+000,  -0.00000000e+000],\n",
        "       [  0.00000000e+000,   0.00000000e+000,   0.00000000e+000],\n",
        "       [ -0.00000000e+000,  -0.00000000e+000,  -0.00000000e+000],\n",
        "       [  0.00000000e+000,   0.00000000e+000,   0.00000000e+000],\n",
        "       [ -0.00000000e+000,  -0.00000000e+000,  -0.00000000e+000],\n",
        "       [  0.00000000e+000,   0.00000000e+000,   0.00000000e+000],\n",
        "       [ -0.00000000e+000,  -0.00000000e+000,  -0.00000000e+000],\n",
        "       [  0.00000000e+000,   0.00000000e+000,   0.00000000e+000],\n",
        "       [ -0.00000000e+000,  -0.00000000e+000,  -0.00000000e+000],\n",
        "       [  0.00000000e+000,   0.00000000e+000,   0.00000000e+000],\n",
        "       [ -0.00000000e+000,  -0.00000000e+000,  -0.00000000e+000],\n",
        "       [  0.00000000e+000,   0.00000000e+000,   0.00000000e+000],\n",
        "       [ -0.00000000e+000,  -0.00000000e+000,  -0.00000000e+000],\n",
        "       [  0.00000000e+000,   0.00000000e+000,   0.00000000e+000],\n",
        "       [ -0.00000000e+000,  -0.00000000e+000,  -0.00000000e+000],\n",
        "       [  0.00000000e+000,   0.00000000e+000,   0.00000000e+000],\n",
        "       [ -0.00000000e+000,  -0.00000000e+000,  -0.00000000e+000],\n",
        "       [  0.00000000e+000,   0.00000000e+000,   0.00000000e+000],\n",
        "       [ -0.00000000e+000,  -0.00000000e+000,  -0.00000000e+000],\n",
        "       [  0.00000000e+000,   0.00000000e+000,   0.00000000e+000],\n",
        "       [ -0.00000000e+000,  -0.00000000e+000,  -0.00000000e+000],\n",
        "       [  0.00000000e+000,   0.00000000e+000,   0.00000000e+000],\n",
        "       [ -0.00000000e+000,  -0.00000000e+000,  -0.00000000e+000],\n",
        "       [  0.00000000e+000,   0.00000000e+000,   0.00000000e+000],\n",
        "       [ -0.00000000e+000,  -0.00000000e+000,  -0.00000000e+000],\n",
        "       [  0.00000000e+000,   0.00000000e+000,   0.00000000e+000],\n",
        "       [ -0.00000000e+000,  -0.00000000e+000,  -0.00000000e+000],\n",
        "       [  0.00000000e+000,   0.00000000e+000,   0.00000000e+000],\n",
        "       [ -0.00000000e+000,  -0.00000000e+000,  -0.00000000e+000],\n",
        "       [  0.00000000e+000,   0.00000000e+000,   0.00000000e+000],\n",
        "       [ -0.00000000e+000,  -0.00000000e+000,  -0.00000000e+000],\n",
        "       [  0.00000000e+000,   0.00000000e+000,   0.00000000e+000],\n",
        "       [ -0.00000000e+000,  -0.00000000e+000,  -0.00000000e+000],\n",
        "       [  0.00000000e+000,   0.00000000e+000,   0.00000000e+000],\n",
        "       [ -0.00000000e+000,  -0.00000000e+000,  -0.00000000e+000],\n",
        "       [  0.00000000e+000,   0.00000000e+000,   0.00000000e+000],\n",
        "       [ -0.00000000e+000,  -0.00000000e+000,  -0.00000000e+000],\n",
        "       [  0.00000000e+000,   0.00000000e+000,   0.00000000e+000],\n",
        "       [ -0.00000000e+000,  -0.00000000e+000,  -0.00000000e+000]])"
       ]
      }
     ],
     "prompt_number": 265
    },
    {
     "cell_type": "code",
     "collapsed": false,
     "input": [],
     "language": "python",
     "metadata": {},
     "outputs": []
    }
   ],
   "metadata": {}
  }
 ]
}